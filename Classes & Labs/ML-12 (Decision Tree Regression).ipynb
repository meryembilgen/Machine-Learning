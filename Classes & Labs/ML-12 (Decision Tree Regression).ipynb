{
 "cells": [
  {
   "cell_type": "markdown",
   "id": "developing-assignment",
   "metadata": {
    "id": "developing-assignment"
   },
   "source": [
    "## Decision Tree- Regression"
   ]
  },
  {
   "cell_type": "code",
   "execution_count": 1,
   "id": "threaded-frank",
   "metadata": {
    "id": "threaded-frank"
   },
   "outputs": [],
   "source": [
    "import pandas as pd\n",
    "import numpy as np\n",
    "import matplotlib.pyplot as plt\n",
    "import seaborn as sns\n",
    "%matplotlib inline\n",
    "\n",
    "plt.rcParams[\"figure.figsize\"] = (8,4)\n",
    "import warnings\n",
    "warnings.filterwarnings('ignore')\n",
    "pd.set_option('display.max_rows', 1000)\n",
    "#pd.set_option('display.max_columns', 1000)\n",
    "#pd.set_option('display.width', 1000)\n",
    "#pd.options.display.float_format = '{:.3f}'.format"
   ]
  },
  {
   "cell_type": "code",
   "execution_count": 2,
   "id": "resident-berkeley",
   "metadata": {
    "id": "resident-berkeley",
    "outputId": "84d3cba4-7fc9-4682-9d16-af9658c409a0"
   },
   "outputs": [
    {
     "data": {
      "text/html": [
       "<div>\n",
       "<style scoped>\n",
       "    .dataframe tbody tr th:only-of-type {\n",
       "        vertical-align: middle;\n",
       "    }\n",
       "\n",
       "    .dataframe tbody tr th {\n",
       "        vertical-align: top;\n",
       "    }\n",
       "\n",
       "    .dataframe thead th {\n",
       "        text-align: right;\n",
       "    }\n",
       "</style>\n",
       "<table border=\"1\" class=\"dataframe\">\n",
       "  <thead>\n",
       "    <tr style=\"text-align: right;\">\n",
       "      <th></th>\n",
       "      <th>Car_Name</th>\n",
       "      <th>Year</th>\n",
       "      <th>Selling_Price</th>\n",
       "      <th>Present_Price</th>\n",
       "      <th>Kms_Driven</th>\n",
       "      <th>Fuel_Type</th>\n",
       "      <th>Seller_Type</th>\n",
       "      <th>Transmission</th>\n",
       "      <th>Owner</th>\n",
       "    </tr>\n",
       "  </thead>\n",
       "  <tbody>\n",
       "    <tr>\n",
       "      <th>0</th>\n",
       "      <td>ritz</td>\n",
       "      <td>2014</td>\n",
       "      <td>3.35</td>\n",
       "      <td>5.59</td>\n",
       "      <td>27000</td>\n",
       "      <td>Petrol</td>\n",
       "      <td>Dealer</td>\n",
       "      <td>Manual</td>\n",
       "      <td>0</td>\n",
       "    </tr>\n",
       "    <tr>\n",
       "      <th>1</th>\n",
       "      <td>sx4</td>\n",
       "      <td>2013</td>\n",
       "      <td>4.75</td>\n",
       "      <td>9.54</td>\n",
       "      <td>43000</td>\n",
       "      <td>Diesel</td>\n",
       "      <td>Dealer</td>\n",
       "      <td>Manual</td>\n",
       "      <td>0</td>\n",
       "    </tr>\n",
       "    <tr>\n",
       "      <th>2</th>\n",
       "      <td>ciaz</td>\n",
       "      <td>2017</td>\n",
       "      <td>7.25</td>\n",
       "      <td>9.85</td>\n",
       "      <td>6900</td>\n",
       "      <td>Petrol</td>\n",
       "      <td>Dealer</td>\n",
       "      <td>Manual</td>\n",
       "      <td>0</td>\n",
       "    </tr>\n",
       "    <tr>\n",
       "      <th>3</th>\n",
       "      <td>wagon r</td>\n",
       "      <td>2011</td>\n",
       "      <td>2.85</td>\n",
       "      <td>4.15</td>\n",
       "      <td>5200</td>\n",
       "      <td>Petrol</td>\n",
       "      <td>Dealer</td>\n",
       "      <td>Manual</td>\n",
       "      <td>0</td>\n",
       "    </tr>\n",
       "    <tr>\n",
       "      <th>4</th>\n",
       "      <td>swift</td>\n",
       "      <td>2014</td>\n",
       "      <td>4.60</td>\n",
       "      <td>6.87</td>\n",
       "      <td>42450</td>\n",
       "      <td>Diesel</td>\n",
       "      <td>Dealer</td>\n",
       "      <td>Manual</td>\n",
       "      <td>0</td>\n",
       "    </tr>\n",
       "  </tbody>\n",
       "</table>\n",
       "</div>"
      ],
      "text/plain": [
       "  Car_Name  Year  Selling_Price  Present_Price  Kms_Driven Fuel_Type  \\\n",
       "0     ritz  2014           3.35           5.59       27000    Petrol   \n",
       "1      sx4  2013           4.75           9.54       43000    Diesel   \n",
       "2     ciaz  2017           7.25           9.85        6900    Petrol   \n",
       "3  wagon r  2011           2.85           4.15        5200    Petrol   \n",
       "4    swift  2014           4.60           6.87       42450    Diesel   \n",
       "\n",
       "  Seller_Type Transmission  Owner  \n",
       "0      Dealer       Manual      0  \n",
       "1      Dealer       Manual      0  \n",
       "2      Dealer       Manual      0  \n",
       "3      Dealer       Manual      0  \n",
       "4      Dealer       Manual      0  "
      ]
     },
     "execution_count": 2,
     "metadata": {},
     "output_type": "execute_result"
    }
   ],
   "source": [
    "df=pd.read_csv(\"car_dataset.csv\")\n",
    "df.head()"
   ]
  },
  {
   "cell_type": "code",
   "execution_count": 3,
   "id": "improved-destruction",
   "metadata": {
    "id": "improved-destruction",
    "outputId": "b28b0195-daa1-4456-ee2f-f10b8ea123d3"
   },
   "outputs": [
    {
     "data": {
      "text/plain": [
       "(301, 9)"
      ]
     },
     "execution_count": 3,
     "metadata": {},
     "output_type": "execute_result"
    }
   ],
   "source": [
    "df.shape"
   ]
  },
  {
   "cell_type": "code",
   "execution_count": 4,
   "id": "available-berkeley",
   "metadata": {
    "id": "available-berkeley",
    "outputId": "9faa8fec-0364-4bdb-a946-ffa2a1e1e965"
   },
   "outputs": [
    {
     "name": "stdout",
     "output_type": "stream",
     "text": [
      "<class 'pandas.core.frame.DataFrame'>\n",
      "RangeIndex: 301 entries, 0 to 300\n",
      "Data columns (total 9 columns):\n",
      " #   Column         Non-Null Count  Dtype  \n",
      "---  ------         --------------  -----  \n",
      " 0   Car_Name       301 non-null    object \n",
      " 1   Year           301 non-null    int64  \n",
      " 2   Selling_Price  301 non-null    float64\n",
      " 3   Present_Price  301 non-null    float64\n",
      " 4   Kms_Driven     301 non-null    int64  \n",
      " 5   Fuel_Type      301 non-null    object \n",
      " 6   Seller_Type    301 non-null    object \n",
      " 7   Transmission   301 non-null    object \n",
      " 8   Owner          301 non-null    int64  \n",
      "dtypes: float64(2), int64(3), object(4)\n",
      "memory usage: 21.3+ KB\n"
     ]
    }
   ],
   "source": [
    "df.info()"
   ]
  },
  {
   "cell_type": "code",
   "execution_count": 5,
   "id": "extended-maximum",
   "metadata": {
    "id": "extended-maximum",
    "outputId": "e380e554-d0bc-4180-bbcb-71c0b0cea61c"
   },
   "outputs": [
    {
     "data": {
      "text/plain": [
       "Car_Name         False\n",
       "Year             False\n",
       "Selling_Price    False\n",
       "Present_Price    False\n",
       "Kms_Driven       False\n",
       "Fuel_Type        False\n",
       "Seller_Type      False\n",
       "Transmission     False\n",
       "Owner            False\n",
       "dtype: bool"
      ]
     },
     "execution_count": 5,
     "metadata": {},
     "output_type": "execute_result"
    }
   ],
   "source": [
    "df.isnull().any()"
   ]
  },
  {
   "cell_type": "code",
   "execution_count": 6,
   "id": "iraqi-invitation",
   "metadata": {
    "id": "iraqi-invitation",
    "outputId": "1de9e14d-f95a-4f4a-ab7e-f8bd9f1b0184"
   },
   "outputs": [
    {
     "data": {
      "text/html": [
       "<div>\n",
       "<style scoped>\n",
       "    .dataframe tbody tr th:only-of-type {\n",
       "        vertical-align: middle;\n",
       "    }\n",
       "\n",
       "    .dataframe tbody tr th {\n",
       "        vertical-align: top;\n",
       "    }\n",
       "\n",
       "    .dataframe thead th {\n",
       "        text-align: right;\n",
       "    }\n",
       "</style>\n",
       "<table border=\"1\" class=\"dataframe\">\n",
       "  <thead>\n",
       "    <tr style=\"text-align: right;\">\n",
       "      <th></th>\n",
       "      <th>count</th>\n",
       "      <th>mean</th>\n",
       "      <th>std</th>\n",
       "      <th>min</th>\n",
       "      <th>25%</th>\n",
       "      <th>50%</th>\n",
       "      <th>75%</th>\n",
       "      <th>max</th>\n",
       "    </tr>\n",
       "  </thead>\n",
       "  <tbody>\n",
       "    <tr>\n",
       "      <th>Year</th>\n",
       "      <td>301.0</td>\n",
       "      <td>2013.627907</td>\n",
       "      <td>2.891554</td>\n",
       "      <td>2003.00</td>\n",
       "      <td>2012.0</td>\n",
       "      <td>2014.0</td>\n",
       "      <td>2016.0</td>\n",
       "      <td>2018.0</td>\n",
       "    </tr>\n",
       "    <tr>\n",
       "      <th>Selling_Price</th>\n",
       "      <td>301.0</td>\n",
       "      <td>4.661296</td>\n",
       "      <td>5.082812</td>\n",
       "      <td>0.10</td>\n",
       "      <td>0.9</td>\n",
       "      <td>3.6</td>\n",
       "      <td>6.0</td>\n",
       "      <td>35.0</td>\n",
       "    </tr>\n",
       "    <tr>\n",
       "      <th>Present_Price</th>\n",
       "      <td>301.0</td>\n",
       "      <td>7.628472</td>\n",
       "      <td>8.644115</td>\n",
       "      <td>0.32</td>\n",
       "      <td>1.2</td>\n",
       "      <td>6.4</td>\n",
       "      <td>9.9</td>\n",
       "      <td>92.6</td>\n",
       "    </tr>\n",
       "    <tr>\n",
       "      <th>Kms_Driven</th>\n",
       "      <td>301.0</td>\n",
       "      <td>36947.205980</td>\n",
       "      <td>38886.883882</td>\n",
       "      <td>500.00</td>\n",
       "      <td>15000.0</td>\n",
       "      <td>32000.0</td>\n",
       "      <td>48767.0</td>\n",
       "      <td>500000.0</td>\n",
       "    </tr>\n",
       "    <tr>\n",
       "      <th>Owner</th>\n",
       "      <td>301.0</td>\n",
       "      <td>0.043189</td>\n",
       "      <td>0.247915</td>\n",
       "      <td>0.00</td>\n",
       "      <td>0.0</td>\n",
       "      <td>0.0</td>\n",
       "      <td>0.0</td>\n",
       "      <td>3.0</td>\n",
       "    </tr>\n",
       "  </tbody>\n",
       "</table>\n",
       "</div>"
      ],
      "text/plain": [
       "               count          mean           std      min      25%      50%  \\\n",
       "Year           301.0   2013.627907      2.891554  2003.00   2012.0   2014.0   \n",
       "Selling_Price  301.0      4.661296      5.082812     0.10      0.9      3.6   \n",
       "Present_Price  301.0      7.628472      8.644115     0.32      1.2      6.4   \n",
       "Kms_Driven     301.0  36947.205980  38886.883882   500.00  15000.0  32000.0   \n",
       "Owner          301.0      0.043189      0.247915     0.00      0.0      0.0   \n",
       "\n",
       "                   75%       max  \n",
       "Year            2016.0    2018.0  \n",
       "Selling_Price      6.0      35.0  \n",
       "Present_Price      9.9      92.6  \n",
       "Kms_Driven     48767.0  500000.0  \n",
       "Owner              0.0       3.0  "
      ]
     },
     "execution_count": 6,
     "metadata": {},
     "output_type": "execute_result"
    }
   ],
   "source": [
    "df.describe().T"
   ]
  },
  {
   "cell_type": "code",
   "execution_count": 7,
   "id": "similar-metabolism",
   "metadata": {
    "id": "similar-metabolism",
    "outputId": "02907dea-0c52-4bd0-be6e-c910130fbb10"
   },
   "outputs": [
    {
     "data": {
      "image/png": "[encoded data removed]",
      "text/plain": [
       "<Figure size 576x288 with 2 Axes>"
      ]
     },
     "metadata": {
      "needs_background": "light"
     },
     "output_type": "display_data"
    }
   ],
   "source": [
    "sns.heatmap(df.corr(), annot=True, vmin=-1, vmax=1)\n",
    "plt.show()"
   ]
  },
  {
   "cell_type": "code",
   "execution_count": 8,
   "id": "civil-footwear",
   "metadata": {
    "id": "civil-footwear",
    "outputId": "71a3cafd-ba73-414b-85c6-9e22fd52882e"
   },
   "outputs": [
    {
     "data": {
      "text/html": [
       "<div>\n",
       "<style scoped>\n",
       "    .dataframe tbody tr th:only-of-type {\n",
       "        vertical-align: middle;\n",
       "    }\n",
       "\n",
       "    .dataframe tbody tr th {\n",
       "        vertical-align: top;\n",
       "    }\n",
       "\n",
       "    .dataframe thead th {\n",
       "        text-align: right;\n",
       "    }\n",
       "</style>\n",
       "<table border=\"1\" class=\"dataframe\">\n",
       "  <thead>\n",
       "    <tr style=\"text-align: right;\">\n",
       "      <th></th>\n",
       "      <th>Car_Name</th>\n",
       "      <th>Year</th>\n",
       "      <th>Selling_Price</th>\n",
       "      <th>Present_Price</th>\n",
       "      <th>Kms_Driven</th>\n",
       "      <th>Fuel_Type</th>\n",
       "      <th>Seller_Type</th>\n",
       "      <th>Transmission</th>\n",
       "      <th>Owner</th>\n",
       "    </tr>\n",
       "  </thead>\n",
       "  <tbody>\n",
       "    <tr>\n",
       "      <th>0</th>\n",
       "      <td>ritz</td>\n",
       "      <td>2014</td>\n",
       "      <td>3.35</td>\n",
       "      <td>5.59</td>\n",
       "      <td>27000</td>\n",
       "      <td>Petrol</td>\n",
       "      <td>Dealer</td>\n",
       "      <td>Manual</td>\n",
       "      <td>0</td>\n",
       "    </tr>\n",
       "    <tr>\n",
       "      <th>1</th>\n",
       "      <td>sx4</td>\n",
       "      <td>2013</td>\n",
       "      <td>4.75</td>\n",
       "      <td>9.54</td>\n",
       "      <td>43000</td>\n",
       "      <td>Diesel</td>\n",
       "      <td>Dealer</td>\n",
       "      <td>Manual</td>\n",
       "      <td>0</td>\n",
       "    </tr>\n",
       "    <tr>\n",
       "      <th>2</th>\n",
       "      <td>ciaz</td>\n",
       "      <td>2017</td>\n",
       "      <td>7.25</td>\n",
       "      <td>9.85</td>\n",
       "      <td>6900</td>\n",
       "      <td>Petrol</td>\n",
       "      <td>Dealer</td>\n",
       "      <td>Manual</td>\n",
       "      <td>0</td>\n",
       "    </tr>\n",
       "    <tr>\n",
       "      <th>3</th>\n",
       "      <td>wagon r</td>\n",
       "      <td>2011</td>\n",
       "      <td>2.85</td>\n",
       "      <td>4.15</td>\n",
       "      <td>5200</td>\n",
       "      <td>Petrol</td>\n",
       "      <td>Dealer</td>\n",
       "      <td>Manual</td>\n",
       "      <td>0</td>\n",
       "    </tr>\n",
       "    <tr>\n",
       "      <th>4</th>\n",
       "      <td>swift</td>\n",
       "      <td>2014</td>\n",
       "      <td>4.60</td>\n",
       "      <td>6.87</td>\n",
       "      <td>42450</td>\n",
       "      <td>Diesel</td>\n",
       "      <td>Dealer</td>\n",
       "      <td>Manual</td>\n",
       "      <td>0</td>\n",
       "    </tr>\n",
       "  </tbody>\n",
       "</table>\n",
       "</div>"
      ],
      "text/plain": [
       "  Car_Name  Year  Selling_Price  Present_Price  Kms_Driven Fuel_Type  \\\n",
       "0     ritz  2014           3.35           5.59       27000    Petrol   \n",
       "1      sx4  2013           4.75           9.54       43000    Diesel   \n",
       "2     ciaz  2017           7.25           9.85        6900    Petrol   \n",
       "3  wagon r  2011           2.85           4.15        5200    Petrol   \n",
       "4    swift  2014           4.60           6.87       42450    Diesel   \n",
       "\n",
       "  Seller_Type Transmission  Owner  \n",
       "0      Dealer       Manual      0  \n",
       "1      Dealer       Manual      0  \n",
       "2      Dealer       Manual      0  \n",
       "3      Dealer       Manual      0  \n",
       "4      Dealer       Manual      0  "
      ]
     },
     "execution_count": 8,
     "metadata": {},
     "output_type": "execute_result"
    }
   ],
   "source": [
    "df.head()"
   ]
  },
  {
   "cell_type": "code",
   "execution_count": 9,
   "id": "attached-university",
   "metadata": {
    "id": "attached-university"
   },
   "outputs": [],
   "source": [
    "df[\"vehicle_age\"]=2022-df.Year\n",
    "\n",
    "# Datamızdaki araç üretim yılını age featurune dönüştürüyoruz."
   ]
  },
  {
   "cell_type": "code",
   "execution_count": 10,
   "id": "f03d7ed8",
   "metadata": {
    "id": "f03d7ed8",
    "outputId": "26fc586c-63ff-43ef-f580-39c5aa832f43"
   },
   "outputs": [
    {
     "data": {
      "text/html": [
       "<div>\n",
       "<style scoped>\n",
       "    .dataframe tbody tr th:only-of-type {\n",
       "        vertical-align: middle;\n",
       "    }\n",
       "\n",
       "    .dataframe tbody tr th {\n",
       "        vertical-align: top;\n",
       "    }\n",
       "\n",
       "    .dataframe thead th {\n",
       "        text-align: right;\n",
       "    }\n",
       "</style>\n",
       "<table border=\"1\" class=\"dataframe\">\n",
       "  <thead>\n",
       "    <tr style=\"text-align: right;\">\n",
       "      <th></th>\n",
       "      <th>Car_Name</th>\n",
       "      <th>Year</th>\n",
       "      <th>Selling_Price</th>\n",
       "      <th>Present_Price</th>\n",
       "      <th>Kms_Driven</th>\n",
       "      <th>Fuel_Type</th>\n",
       "      <th>Seller_Type</th>\n",
       "      <th>Transmission</th>\n",
       "      <th>Owner</th>\n",
       "      <th>vehicle_age</th>\n",
       "    </tr>\n",
       "  </thead>\n",
       "  <tbody>\n",
       "    <tr>\n",
       "      <th>0</th>\n",
       "      <td>ritz</td>\n",
       "      <td>2014</td>\n",
       "      <td>3.35</td>\n",
       "      <td>5.59</td>\n",
       "      <td>27000</td>\n",
       "      <td>Petrol</td>\n",
       "      <td>Dealer</td>\n",
       "      <td>Manual</td>\n",
       "      <td>0</td>\n",
       "      <td>8</td>\n",
       "    </tr>\n",
       "    <tr>\n",
       "      <th>1</th>\n",
       "      <td>sx4</td>\n",
       "      <td>2013</td>\n",
       "      <td>4.75</td>\n",
       "      <td>9.54</td>\n",
       "      <td>43000</td>\n",
       "      <td>Diesel</td>\n",
       "      <td>Dealer</td>\n",
       "      <td>Manual</td>\n",
       "      <td>0</td>\n",
       "      <td>9</td>\n",
       "    </tr>\n",
       "    <tr>\n",
       "      <th>2</th>\n",
       "      <td>ciaz</td>\n",
       "      <td>2017</td>\n",
       "      <td>7.25</td>\n",
       "      <td>9.85</td>\n",
       "      <td>6900</td>\n",
       "      <td>Petrol</td>\n",
       "      <td>Dealer</td>\n",
       "      <td>Manual</td>\n",
       "      <td>0</td>\n",
       "      <td>5</td>\n",
       "    </tr>\n",
       "    <tr>\n",
       "      <th>3</th>\n",
       "      <td>wagon r</td>\n",
       "      <td>2011</td>\n",
       "      <td>2.85</td>\n",
       "      <td>4.15</td>\n",
       "      <td>5200</td>\n",
       "      <td>Petrol</td>\n",
       "      <td>Dealer</td>\n",
       "      <td>Manual</td>\n",
       "      <td>0</td>\n",
       "      <td>11</td>\n",
       "    </tr>\n",
       "    <tr>\n",
       "      <th>4</th>\n",
       "      <td>swift</td>\n",
       "      <td>2014</td>\n",
       "      <td>4.60</td>\n",
       "      <td>6.87</td>\n",
       "      <td>42450</td>\n",
       "      <td>Diesel</td>\n",
       "      <td>Dealer</td>\n",
       "      <td>Manual</td>\n",
       "      <td>0</td>\n",
       "      <td>8</td>\n",
       "    </tr>\n",
       "  </tbody>\n",
       "</table>\n",
       "</div>"
      ],
      "text/plain": [
       "  Car_Name  Year  Selling_Price  Present_Price  Kms_Driven Fuel_Type  \\\n",
       "0     ritz  2014           3.35           5.59       27000    Petrol   \n",
       "1      sx4  2013           4.75           9.54       43000    Diesel   \n",
       "2     ciaz  2017           7.25           9.85        6900    Petrol   \n",
       "3  wagon r  2011           2.85           4.15        5200    Petrol   \n",
       "4    swift  2014           4.60           6.87       42450    Diesel   \n",
       "\n",
       "  Seller_Type Transmission  Owner  vehicle_age  \n",
       "0      Dealer       Manual      0            8  \n",
       "1      Dealer       Manual      0            9  \n",
       "2      Dealer       Manual      0            5  \n",
       "3      Dealer       Manual      0           11  \n",
       "4      Dealer       Manual      0            8  "
      ]
     },
     "execution_count": 10,
     "metadata": {},
     "output_type": "execute_result"
    }
   ],
   "source": [
    "df.head()"
   ]
  },
  {
   "cell_type": "code",
   "execution_count": 11,
   "id": "bebc6dde",
   "metadata": {
    "id": "bebc6dde",
    "outputId": "8b9a00f1-55ff-421c-dc79-63ce8ed6d844"
   },
   "outputs": [
    {
     "data": {
      "text/html": [
       "<div>\n",
       "<style scoped>\n",
       "    .dataframe tbody tr th:only-of-type {\n",
       "        vertical-align: middle;\n",
       "    }\n",
       "\n",
       "    .dataframe tbody tr th {\n",
       "        vertical-align: top;\n",
       "    }\n",
       "\n",
       "    .dataframe thead th {\n",
       "        text-align: right;\n",
       "    }\n",
       "</style>\n",
       "<table border=\"1\" class=\"dataframe\">\n",
       "  <thead>\n",
       "    <tr style=\"text-align: right;\">\n",
       "      <th></th>\n",
       "      <th>Car_Name</th>\n",
       "      <th>Fuel_Type</th>\n",
       "      <th>Seller_Type</th>\n",
       "      <th>Transmission</th>\n",
       "    </tr>\n",
       "  </thead>\n",
       "  <tbody>\n",
       "    <tr>\n",
       "      <th>0</th>\n",
       "      <td>ritz</td>\n",
       "      <td>Petrol</td>\n",
       "      <td>Dealer</td>\n",
       "      <td>Manual</td>\n",
       "    </tr>\n",
       "    <tr>\n",
       "      <th>1</th>\n",
       "      <td>sx4</td>\n",
       "      <td>Diesel</td>\n",
       "      <td>Dealer</td>\n",
       "      <td>Manual</td>\n",
       "    </tr>\n",
       "    <tr>\n",
       "      <th>2</th>\n",
       "      <td>ciaz</td>\n",
       "      <td>Petrol</td>\n",
       "      <td>Dealer</td>\n",
       "      <td>Manual</td>\n",
       "    </tr>\n",
       "    <tr>\n",
       "      <th>3</th>\n",
       "      <td>wagon r</td>\n",
       "      <td>Petrol</td>\n",
       "      <td>Dealer</td>\n",
       "      <td>Manual</td>\n",
       "    </tr>\n",
       "    <tr>\n",
       "      <th>4</th>\n",
       "      <td>swift</td>\n",
       "      <td>Diesel</td>\n",
       "      <td>Dealer</td>\n",
       "      <td>Manual</td>\n",
       "    </tr>\n",
       "  </tbody>\n",
       "</table>\n",
       "</div>"
      ],
      "text/plain": [
       "  Car_Name Fuel_Type Seller_Type Transmission\n",
       "0     ritz    Petrol      Dealer       Manual\n",
       "1      sx4    Diesel      Dealer       Manual\n",
       "2     ciaz    Petrol      Dealer       Manual\n",
       "3  wagon r    Petrol      Dealer       Manual\n",
       "4    swift    Diesel      Dealer       Manual"
      ]
     },
     "execution_count": 11,
     "metadata": {},
     "output_type": "execute_result"
    }
   ],
   "source": [
    "df.select_dtypes(\"object\").head()"
   ]
  },
  {
   "cell_type": "code",
   "execution_count": 12,
   "id": "invisible-partnership",
   "metadata": {
    "id": "invisible-partnership",
    "outputId": "515f9ee0-0433-42e6-d831-612b1e86f74e"
   },
   "outputs": [
    {
     "name": "stdout",
     "output_type": "stream",
     "text": [
      "Car_Name 98\n",
      "Fuel_Type 3\n",
      "Seller_Type 2\n",
      "Transmission 2\n"
     ]
    }
   ],
   "source": [
    "for i in df.select_dtypes(\"object\"):\n",
    "\n",
    "    print(i, len(df[i].value_counts()))\n",
    "\n",
    "# kategorik featurların kaç unique gözlemden oluştuğu görüyoruz. car_name'in unique kategorik gözlem sayısı datamızdaki toplam \n",
    "# gözlem sayısına nazaran çok yüksek."
   ]
  },
  {
   "cell_type": "code",
   "execution_count": 13,
   "id": "39379b91",
   "metadata": {
    "id": "39379b91",
    "outputId": "4952cf5e-3d6c-48f0-f399-fad8f6b9f64f"
   },
   "outputs": [
    {
     "data": {
      "text/plain": [
       "city                         26\n",
       "corolla altis                16\n",
       "verna                        14\n",
       "fortuner                     11\n",
       "brio                         10\n",
       "ciaz                          9\n",
       "innova                        9\n",
       "i20                           9\n",
       "grand i10                     8\n",
       "jazz                          7\n",
       "amaze                         7\n",
       "Royal Enfield Classic 350     7\n",
       "ertiga                        6\n",
       "eon                           6\n",
       "sx4                           6\n",
       "alto k10                      5\n",
       "i10                           5\n",
       "swift                         5\n",
       "Bajaj Pulsar 150              4\n",
       "Royal Enfield Thunder 350     4\n",
       "ritz                          4\n",
       "wagon r                       4\n",
       "etios liva                    4\n",
       "dzire                         4\n",
       "xcent                         3\n",
       "etios cross                   3\n",
       "Royal Enfield Thunder 500     3\n",
       "TVS Apache RTR 160            3\n",
       "Yamaha FZ S V 2.0             3\n",
       "creta                         3\n",
       "Honda CB Hornet 160R          3\n",
       "etios g                       3\n",
       "Bajaj Avenger 220             3\n",
       "Bajaj Pulsar NS 200           3\n",
       "Bajaj Discover 125            2\n",
       "Bajaj Pulsar 220 F            2\n",
       "TVS Apache RTR 180            2\n",
       "Yamaha FZ  v 2.0              2\n",
       "Honda Activa 4G               2\n",
       "Hero Extreme                  2\n",
       "Honda CB twister              2\n",
       "Hero Splender iSmart          2\n",
       "Activa 3g                     2\n",
       "Hero Passion Pro              2\n",
       "Honda CB Shine                2\n",
       "Bajaj Avenger 220 dtsi        2\n",
       "Honda CBR 150                 2\n",
       "elantra                       2\n",
       "Royal Enfield Classic 500     2\n",
       "KTM RC200                     2\n",
       "Honda Karizma                 2\n",
       "Bajaj  ct 100                 1\n",
       "Hero  Ignitor Disc            1\n",
       "TVS Jupyter                   1\n",
       "Hero Honda Passion Pro        1\n",
       "Hero Splender Plus            1\n",
       "vitara brezza                 1\n",
       "Bajaj Discover 100            1\n",
       "Suzuki Access 125             1\n",
       "s cross                       1\n",
       "alto 800                      1\n",
       "baleno                        1\n",
       "TVS Wego                      1\n",
       "Hero  CBZ Xtreme              1\n",
       "Hero Glamour                  1\n",
       "ignis                         1\n",
       "Hero Super Splendor           1\n",
       "800                           1\n",
       "Hero Hunk                     1\n",
       "Honda Activa 125              1\n",
       "corolla                       1\n",
       "Hero Honda CBZ extreme        1\n",
       "Yamaha FZ 16                  1\n",
       "camry                         1\n",
       "land cruiser                  1\n",
       "UM Renegade Mojave            1\n",
       "Bajaj Dominar 400             1\n",
       "KTM RC390                     1\n",
       "Hyosung GT250R                1\n",
       "KTM 390 Duke                  1\n",
       "Mahindra Mojo XT300           1\n",
       "Bajaj Pulsar RS200            1\n",
       "Royal Enfield Bullet 350      1\n",
       "Bajaj Avenger 150             1\n",
       "Bajaj Avenger 150 street      1\n",
       "Honda CB Unicorn              1\n",
       "omni                          1\n",
       "Bajaj Pulsar  NS 200          1\n",
       "Hero Passion X pro            1\n",
       "Yamaha Fazer                  1\n",
       "TVS Sport                     1\n",
       "Honda Dream Yuga              1\n",
       "etios gd                      1\n",
       "Honda CB Trigger              1\n",
       "Yamaha FZ S                   1\n",
       "Bajaj Pulsar 135 LS           1\n",
       "Activa 4g                     1\n",
       "Bajaj Avenger Street 220      1\n",
       "Name: Car_Name, dtype: int64"
      ]
     },
     "execution_count": 13,
     "metadata": {},
     "output_type": "execute_result"
    }
   ],
   "source": [
    "df.Car_Name.value_counts()"
   ]
  },
  {
   "cell_type": "code",
   "execution_count": 14,
   "id": "private-retirement",
   "metadata": {
    "id": "private-retirement"
   },
   "outputs": [],
   "source": [
    "df.drop(columns=[\"Car_Name\", \"Year\"], inplace=True)\n",
    "\n",
    "# 301 gözlemim olmasına rağmen car_name'de 98 tane unique araba/motor markası mevcut. Bu featura ordinal encoder uygulayarak\n",
    "# numeric verilere döünüştürmek anlamlı bir hareket tarzı olmayacak. Çünkü DT modeli high cardinality categorical featureslara \n",
    "# (çok fazla unique kategorik gözlemler içeren featurlar) daha fazla önem yükleme eğilimindedir. Bu da bu featurların feature\n",
    "# importanceda daha ön plana çıkmasına sebep olur. \n",
    "\n",
    "# Ayrıca  çoğu marka ve modelden 1-2 adet mevcut. Doğal olarak eğitime bir katkısı olmayacağından bu featura kaldırıyoruz.\n",
    "\n",
    "# Araç üretim yılı olan Year featurını da Age featurına dönüştrdüğümüzden Year featurenıda car_name ile birlikte kaldırıyoruz."
   ]
  },
  {
   "cell_type": "code",
   "execution_count": 15,
   "id": "endless-attendance",
   "metadata": {
    "id": "endless-attendance",
    "outputId": "bc9addc1-87d5-403a-85db-1956cf636795"
   },
   "outputs": [
    {
     "data": {
      "text/html": [
       "<div>\n",
       "<style scoped>\n",
       "    .dataframe tbody tr th:only-of-type {\n",
       "        vertical-align: middle;\n",
       "    }\n",
       "\n",
       "    .dataframe tbody tr th {\n",
       "        vertical-align: top;\n",
       "    }\n",
       "\n",
       "    .dataframe thead th {\n",
       "        text-align: right;\n",
       "    }\n",
       "</style>\n",
       "<table border=\"1\" class=\"dataframe\">\n",
       "  <thead>\n",
       "    <tr style=\"text-align: right;\">\n",
       "      <th></th>\n",
       "      <th>Selling_Price</th>\n",
       "      <th>Present_Price</th>\n",
       "      <th>Kms_Driven</th>\n",
       "      <th>Fuel_Type</th>\n",
       "      <th>Seller_Type</th>\n",
       "      <th>Transmission</th>\n",
       "      <th>Owner</th>\n",
       "      <th>vehicle_age</th>\n",
       "    </tr>\n",
       "  </thead>\n",
       "  <tbody>\n",
       "    <tr>\n",
       "      <th>0</th>\n",
       "      <td>3.35</td>\n",
       "      <td>5.59</td>\n",
       "      <td>27000</td>\n",
       "      <td>Petrol</td>\n",
       "      <td>Dealer</td>\n",
       "      <td>Manual</td>\n",
       "      <td>0</td>\n",
       "      <td>8</td>\n",
       "    </tr>\n",
       "    <tr>\n",
       "      <th>1</th>\n",
       "      <td>4.75</td>\n",
       "      <td>9.54</td>\n",
       "      <td>43000</td>\n",
       "      <td>Diesel</td>\n",
       "      <td>Dealer</td>\n",
       "      <td>Manual</td>\n",
       "      <td>0</td>\n",
       "      <td>9</td>\n",
       "    </tr>\n",
       "    <tr>\n",
       "      <th>2</th>\n",
       "      <td>7.25</td>\n",
       "      <td>9.85</td>\n",
       "      <td>6900</td>\n",
       "      <td>Petrol</td>\n",
       "      <td>Dealer</td>\n",
       "      <td>Manual</td>\n",
       "      <td>0</td>\n",
       "      <td>5</td>\n",
       "    </tr>\n",
       "    <tr>\n",
       "      <th>3</th>\n",
       "      <td>2.85</td>\n",
       "      <td>4.15</td>\n",
       "      <td>5200</td>\n",
       "      <td>Petrol</td>\n",
       "      <td>Dealer</td>\n",
       "      <td>Manual</td>\n",
       "      <td>0</td>\n",
       "      <td>11</td>\n",
       "    </tr>\n",
       "    <tr>\n",
       "      <th>4</th>\n",
       "      <td>4.60</td>\n",
       "      <td>6.87</td>\n",
       "      <td>42450</td>\n",
       "      <td>Diesel</td>\n",
       "      <td>Dealer</td>\n",
       "      <td>Manual</td>\n",
       "      <td>0</td>\n",
       "      <td>8</td>\n",
       "    </tr>\n",
       "  </tbody>\n",
       "</table>\n",
       "</div>"
      ],
      "text/plain": [
       "   Selling_Price  Present_Price  Kms_Driven Fuel_Type Seller_Type  \\\n",
       "0           3.35           5.59       27000    Petrol      Dealer   \n",
       "1           4.75           9.54       43000    Diesel      Dealer   \n",
       "2           7.25           9.85        6900    Petrol      Dealer   \n",
       "3           2.85           4.15        5200    Petrol      Dealer   \n",
       "4           4.60           6.87       42450    Diesel      Dealer   \n",
       "\n",
       "  Transmission  Owner  vehicle_age  \n",
       "0       Manual      0            8  \n",
       "1       Manual      0            9  \n",
       "2       Manual      0            5  \n",
       "3       Manual      0           11  \n",
       "4       Manual      0            8  "
      ]
     },
     "execution_count": 15,
     "metadata": {},
     "output_type": "execute_result"
    }
   ],
   "source": [
    "df.head()"
   ]
  },
  {
   "cell_type": "code",
   "execution_count": 16,
   "id": "3342f957",
   "metadata": {
    "id": "3342f957",
    "outputId": "b607cc1c-80e8-4081-f3a1-f86d430d0043"
   },
   "outputs": [
    {
     "data": {
      "text/plain": [
       "<AxesSubplot:xlabel='Selling_Price', ylabel='Count'>"
      ]
     },
     "execution_count": 16,
     "metadata": {},
     "output_type": "execute_result"
    },
    {
     "data": {
      "image/png": "[encoded data removed]",
      "text/plain": [
       "<Figure size 576x288 with 1 Axes>"
      ]
     },
     "metadata": {
      "needs_background": "light"
     },
     "output_type": "display_data"
    }
   ],
   "source": [
    "sns.histplot(df.Selling_Price, bins=50, kde=True)\n",
    "\n",
    "# tree based modeller outlierlara karşı çok robustdur(güçlüdür). Ancak küçük regression datalarında bu durum geçerli değildir.\n",
    "# Küçük regression datalarında outlier dağerler düştüğü yapraklardaki ortalama fiyatları ciddi şekilde yükseltebiliğinden veya \n",
    "# azaltabildiğinden eğitim için yetersiz olan bu outlier gözlemleri düşürmek tree based modellerde önem arzediyor.\n",
    "\n",
    "# Ancak her zaman olduğu gibi hem outlierlar ile hem de outlierları düşürerek skorları karşılaştırıp farklarını görmeliyiz."
   ]
  },
  {
   "cell_type": "code",
   "execution_count": 17,
   "id": "e707750e",
   "metadata": {
    "id": "e707750e",
    "outputId": "e0fd6ee3-891d-4402-9f4c-5ed9f850a356"
   },
   "outputs": [
    {
     "data": {
      "text/plain": [
       "<AxesSubplot:>"
      ]
     },
     "execution_count": 17,
     "metadata": {},
     "output_type": "execute_result"
    },
    {
     "data": {
      "image/png": "[encoded data removed]",
      "text/plain": [
       "<Figure size 576x288 with 1 Axes>"
      ]
     },
     "metadata": {
      "needs_background": "light"
     },
     "output_type": "display_data"
    }
   ],
   "source": [
    "sns.boxplot(df.Selling_Price)"
   ]
  },
  {
   "cell_type": "code",
   "execution_count": 18,
   "id": "appropriate-field",
   "metadata": {
    "id": "appropriate-field"
   },
   "outputs": [],
   "source": [
    "df2 = df.copy()"
   ]
  },
  {
   "cell_type": "markdown",
   "id": "swiss-respondent",
   "metadata": {
    "id": "swiss-respondent"
   },
   "source": [
    "## Train test split"
   ]
  },
  {
   "cell_type": "code",
   "execution_count": 19,
   "id": "every-turtle",
   "metadata": {
    "id": "every-turtle"
   },
   "outputs": [],
   "source": [
    "X=df.drop(\"Selling_Price\", axis=1)\n",
    "y=df.Selling_Price"
   ]
  },
  {
   "cell_type": "code",
   "execution_count": 20,
   "id": "ed6e525a",
   "metadata": {
    "id": "ed6e525a",
    "outputId": "1680afa6-ed51-44e2-892a-8e3243938d87"
   },
   "outputs": [
    {
     "name": "stdout",
     "output_type": "stream",
     "text": [
      "Train features shape :  (240, 7)\n",
      "Train target shape   :  (240,)\n",
      "Test features shape  :  (61, 7)\n",
      "Test target shape    :  (61,)\n"
     ]
    }
   ],
   "source": [
    "from sklearn.model_selection import train_test_split\n",
    "\n",
    "X_train, X_test, y_train, y_test = train_test_split(X, y, test_size=0.2, random_state=5)\n",
    "\n",
    "print(\"Train features shape : \", X_train.shape)\n",
    "print(\"Train target shape   : \", y_train.shape)\n",
    "print(\"Test features shape  : \", X_test.shape)\n",
    "print(\"Test target shape    : \", y_test.shape)"
   ]
  },
  {
   "cell_type": "markdown",
   "id": "optional-filing",
   "metadata": {
    "id": "optional-filing"
   },
   "source": [
    "## Modeling with Pipeline"
   ]
  },
  {
   "cell_type": "code",
   "execution_count": 21,
   "id": "UTBg0AcMWbZJ",
   "metadata": {
    "id": "UTBg0AcMWbZJ"
   },
   "outputs": [
    {
     "data": {
      "text/plain": [
       "Index(['Fuel_Type', 'Seller_Type', 'Transmission'], dtype='object')"
      ]
     },
     "execution_count": 21,
     "metadata": {},
     "output_type": "execute_result"
    }
   ],
   "source": [
    "cat = X_train.select_dtypes(\"object\").columns\n",
    "cat"
   ]
  },
  {
   "cell_type": "code",
   "execution_count": 22,
   "id": "e2e70e0e",
   "metadata": {
    "id": "e2e70e0e"
   },
   "outputs": [],
   "source": [
    "from sklearn.compose import make_column_transformer\n",
    "from sklearn.preprocessing import OrdinalEncoder\n",
    "\n",
    "\n",
    "ord_enc = OrdinalEncoder(handle_unknown='use_encoded_value', unknown_value=-1)\n",
    "\n",
    "column_trans = make_column_transformer((ord_enc, cat), remainder='passthrough')\n",
    "\n",
    "# classification notebokunda yaptığımız işlemleri aynen tekrarlıyoruz.#"
   ]
  },
  {
   "cell_type": "code",
   "execution_count": 23,
   "id": "34c962d3",
   "metadata": {
    "id": "34c962d3",
    "outputId": "763a9caf-094d-4849-bdd4-ba3ba1698563"
   },
   "outputs": [
    {
     "data": {
      "text/html": [
       "<style>#sk-container-id-1 {color: black;background-color: white;}#sk-container-id-1 pre{padding: 0;}#sk-container-id-1 div.sk-toggleable {background-color: white;}#sk-container-id-1 label.sk-toggleable__label {cursor: pointer;display: block;width: 100%;margin-bottom: 0;padding: 0.3em;box-sizing: border-box;text-align: center;}#sk-container-id-1 label.sk-toggleable__label-arrow:before {content: \"▸\";float: left;margin-right: 0.25em;color: #696969;}#sk-container-id-1 label.sk-toggleable__label-arrow:hover:before {color: black;}#sk-container-id-1 div.sk-estimator:hover label.sk-toggleable__label-arrow:before {color: black;}#sk-container-id-1 div.sk-toggleable__content {max-height: 0;max-width: 0;overflow: hidden;text-align: left;background-color: #f0f8ff;}#sk-container-id-1 div.sk-toggleable__content pre {margin: 0.2em;color: black;border-radius: 0.25em;background-color: #f0f8ff;}#sk-container-id-1 input.sk-toggleable__control:checked~div.sk-toggleable__content {max-height: 200px;max-width: 100%;overflow: auto;}#sk-container-id-1 input.sk-toggleable__control:checked~label.sk-toggleable__label-arrow:before {content: \"▾\";}#sk-container-id-1 div.sk-estimator input.sk-toggleable__control:checked~label.sk-toggleable__label {background-color: #d4ebff;}#sk-container-id-1 div.sk-label input.sk-toggleable__control:checked~label.sk-toggleable__label {background-color: #d4ebff;}#sk-container-id-1 input.sk-hidden--visually {border: 0;clip: rect(1px 1px 1px 1px);clip: rect(1px, 1px, 1px, 1px);height: 1px;margin: -1px;overflow: hidden;padding: 0;position: absolute;width: 1px;}#sk-container-id-1 div.sk-estimator {font-family: monospace;background-color: #f0f8ff;border: 1px dotted black;border-radius: 0.25em;box-sizing: border-box;margin-bottom: 0.5em;}#sk-container-id-1 div.sk-estimator:hover {background-color: #d4ebff;}#sk-container-id-1 div.sk-parallel-item::after {content: \"\";width: 100%;border-bottom: 1px solid gray;flex-grow: 1;}#sk-container-id-1 div.sk-label:hover label.sk-toggleable__label {background-color: #d4ebff;}#sk-container-id-1 div.sk-serial::before {content: \"\";position: absolute;border-left: 1px solid gray;box-sizing: border-box;top: 0;bottom: 0;left: 50%;z-index: 0;}#sk-container-id-1 div.sk-serial {display: flex;flex-direction: column;align-items: center;background-color: white;padding-right: 0.2em;padding-left: 0.2em;position: relative;}#sk-container-id-1 div.sk-item {position: relative;z-index: 1;}#sk-container-id-1 div.sk-parallel {display: flex;align-items: stretch;justify-content: center;background-color: white;position: relative;}#sk-container-id-1 div.sk-item::before, #sk-container-id-1 div.sk-parallel-item::before {content: \"\";position: absolute;border-left: 1px solid gray;box-sizing: border-box;top: 0;bottom: 0;left: 50%;z-index: -1;}#sk-container-id-1 div.sk-parallel-item {display: flex;flex-direction: column;z-index: 1;position: relative;background-color: white;}#sk-container-id-1 div.sk-parallel-item:first-child::after {align-self: flex-end;width: 50%;}#sk-container-id-1 div.sk-parallel-item:last-child::after {align-self: flex-start;width: 50%;}#sk-container-id-1 div.sk-parallel-item:only-child::after {width: 0;}#sk-container-id-1 div.sk-dashed-wrapped {border: 1px dashed gray;margin: 0 0.4em 0.5em 0.4em;box-sizing: border-box;padding-bottom: 0.4em;background-color: white;}#sk-container-id-1 div.sk-label label {font-family: monospace;font-weight: bold;display: inline-block;line-height: 1.2em;}#sk-container-id-1 div.sk-label-container {text-align: center;}#sk-container-id-1 div.sk-container {/* jupyter's `normalize.less` sets `[hidden] { display: none; }` but bootstrap.min.css set `[hidden] { display: none !important; }` so we also need the `!important` here to be able to override the default hidden behavior on the sphinx rendered scikit-learn.org. See: https://github.com/scikit-learn/scikit-learn/issues/21755 */display: inline-block !important;position: relative;}#sk-container-id-1 div.sk-text-repr-fallback {display: none;}</style><div id=\"sk-container-id-1\" class=\"sk-top-container\"><div class=\"sk-text-repr-fallback\"><pre>Pipeline(steps=[(&#x27;OrdinalEncoder&#x27;,\n",
       "                 ColumnTransformer(remainder=&#x27;passthrough&#x27;,\n",
       "                                   transformers=[(&#x27;ordinalencoder&#x27;,\n",
       "                                                  OrdinalEncoder(handle_unknown=&#x27;use_encoded_value&#x27;,\n",
       "                                                                 unknown_value=-1),\n",
       "                                                  Index([&#x27;Fuel_Type&#x27;, &#x27;Seller_Type&#x27;, &#x27;Transmission&#x27;], dtype=&#x27;object&#x27;))])),\n",
       "                (&#x27;DT_model&#x27;, DecisionTreeRegressor(random_state=101))])</pre><b>In a Jupyter environment, please rerun this cell to show the HTML representation or trust the notebook. <br />On GitHub, the HTML representation is unable to render, please try loading this page with nbviewer.org.</b></div><div class=\"sk-container\" hidden><div class=\"sk-item sk-dashed-wrapped\"><div class=\"sk-label-container\"><div class=\"sk-label sk-toggleable\"><input class=\"sk-toggleable__control sk-hidden--visually\" id=\"sk-estimator-id-1\" type=\"checkbox\" ><label for=\"sk-estimator-id-1\" class=\"sk-toggleable__label sk-toggleable__label-arrow\">Pipeline</label><div class=\"sk-toggleable__content\"><pre>Pipeline(steps=[(&#x27;OrdinalEncoder&#x27;,\n",
       "                 ColumnTransformer(remainder=&#x27;passthrough&#x27;,\n",
       "                                   transformers=[(&#x27;ordinalencoder&#x27;,\n",
       "                                                  OrdinalEncoder(handle_unknown=&#x27;use_encoded_value&#x27;,\n",
       "                                                                 unknown_value=-1),\n",
       "                                                  Index([&#x27;Fuel_Type&#x27;, &#x27;Seller_Type&#x27;, &#x27;Transmission&#x27;], dtype=&#x27;object&#x27;))])),\n",
       "                (&#x27;DT_model&#x27;, DecisionTreeRegressor(random_state=101))])</pre></div></div></div><div class=\"sk-serial\"><div class=\"sk-item sk-dashed-wrapped\"><div class=\"sk-label-container\"><div class=\"sk-label sk-toggleable\"><input class=\"sk-toggleable__control sk-hidden--visually\" id=\"sk-estimator-id-2\" type=\"checkbox\" ><label for=\"sk-estimator-id-2\" class=\"sk-toggleable__label sk-toggleable__label-arrow\">OrdinalEncoder: ColumnTransformer</label><div class=\"sk-toggleable__content\"><pre>ColumnTransformer(remainder=&#x27;passthrough&#x27;,\n",
       "                  transformers=[(&#x27;ordinalencoder&#x27;,\n",
       "                                 OrdinalEncoder(handle_unknown=&#x27;use_encoded_value&#x27;,\n",
       "                                                unknown_value=-1),\n",
       "                                 Index([&#x27;Fuel_Type&#x27;, &#x27;Seller_Type&#x27;, &#x27;Transmission&#x27;], dtype=&#x27;object&#x27;))])</pre></div></div></div><div class=\"sk-parallel\"><div class=\"sk-parallel-item\"><div class=\"sk-item\"><div class=\"sk-label-container\"><div class=\"sk-label sk-toggleable\"><input class=\"sk-toggleable__control sk-hidden--visually\" id=\"sk-estimator-id-3\" type=\"checkbox\" ><label for=\"sk-estimator-id-3\" class=\"sk-toggleable__label sk-toggleable__label-arrow\">ordinalencoder</label><div class=\"sk-toggleable__content\"><pre>Index([&#x27;Fuel_Type&#x27;, &#x27;Seller_Type&#x27;, &#x27;Transmission&#x27;], dtype=&#x27;object&#x27;)</pre></div></div></div><div class=\"sk-serial\"><div class=\"sk-item\"><div class=\"sk-estimator sk-toggleable\"><input class=\"sk-toggleable__control sk-hidden--visually\" id=\"sk-estimator-id-4\" type=\"checkbox\" ><label for=\"sk-estimator-id-4\" class=\"sk-toggleable__label sk-toggleable__label-arrow\">OrdinalEncoder</label><div class=\"sk-toggleable__content\"><pre>OrdinalEncoder(handle_unknown=&#x27;use_encoded_value&#x27;, unknown_value=-1)</pre></div></div></div></div></div></div><div class=\"sk-parallel-item\"><div class=\"sk-item\"><div class=\"sk-label-container\"><div class=\"sk-label sk-toggleable\"><input class=\"sk-toggleable__control sk-hidden--visually\" id=\"sk-estimator-id-5\" type=\"checkbox\" ><label for=\"sk-estimator-id-5\" class=\"sk-toggleable__label sk-toggleable__label-arrow\">remainder</label><div class=\"sk-toggleable__content\"><pre>[&#x27;Present_Price&#x27;, &#x27;Kms_Driven&#x27;, &#x27;Owner&#x27;, &#x27;vehicle_age&#x27;]</pre></div></div></div><div class=\"sk-serial\"><div class=\"sk-item\"><div class=\"sk-estimator sk-toggleable\"><input class=\"sk-toggleable__control sk-hidden--visually\" id=\"sk-estimator-id-6\" type=\"checkbox\" ><label for=\"sk-estimator-id-6\" class=\"sk-toggleable__label sk-toggleable__label-arrow\">passthrough</label><div class=\"sk-toggleable__content\"><pre>passthrough</pre></div></div></div></div></div></div></div></div><div class=\"sk-item\"><div class=\"sk-estimator sk-toggleable\"><input class=\"sk-toggleable__control sk-hidden--visually\" id=\"sk-estimator-id-7\" type=\"checkbox\" ><label for=\"sk-estimator-id-7\" class=\"sk-toggleable__label sk-toggleable__label-arrow\">DecisionTreeRegressor</label><div class=\"sk-toggleable__content\"><pre>DecisionTreeRegressor(random_state=101)</pre></div></div></div></div></div></div></div>"
      ],
      "text/plain": [
       "Pipeline(steps=[('OrdinalEncoder',\n",
       "                 ColumnTransformer(remainder='passthrough',\n",
       "                                   transformers=[('ordinalencoder',\n",
       "                                                  OrdinalEncoder(handle_unknown='use_encoded_value',\n",
       "                                                                 unknown_value=-1),\n",
       "                                                  Index(['Fuel_Type', 'Seller_Type', 'Transmission'], dtype='object'))])),\n",
       "                ('DT_model', DecisionTreeRegressor(random_state=101))])"
      ]
     },
     "execution_count": 23,
     "metadata": {},
     "output_type": "execute_result"
    }
   ],
   "source": [
    "from sklearn.pipeline import Pipeline\n",
    "from sklearn.tree import DecisionTreeClassifier, DecisionTreeRegressor\n",
    "\n",
    "\n",
    "operations = [(\"OrdinalEncoder\", column_trans), (\"DT_model\", DecisionTreeRegressor(random_state=101))]\n",
    "\n",
    "pipe_model = Pipeline(steps=operations)\n",
    "\n",
    "pipe_model.fit(X_train, y_train)\n",
    "\n",
    "# classification notebokunda yaptığımız işlemleri aynen tekrarlıyoruz."
   ]
  },
  {
   "cell_type": "code",
   "execution_count": 24,
   "id": "legislative-office",
   "metadata": {
    "id": "legislative-office"
   },
   "outputs": [],
   "source": [
    "from sklearn.metrics import r2_score, mean_absolute_error, mean_squared_error"
   ]
  },
  {
   "cell_type": "code",
   "execution_count": 25,
   "id": "5783b5a8",
   "metadata": {
    "id": "5783b5a8"
   },
   "outputs": [],
   "source": [
    "def train_val(model, X_train, y_train, X_test, y_test):\n",
    "    \n",
    "    y_pred = model.predict(X_test)\n",
    "    y_train_pred = model.predict(X_train)\n",
    "    \n",
    "    scores = {\"train\": {\"R2\" : r2_score(y_train, y_train_pred),\n",
    "    \"mae\" : mean_absolute_error(y_train, y_train_pred),\n",
    "    \"mse\" : mean_squared_error(y_train, y_train_pred),                          \n",
    "    \"rmse\" : np.sqrt(mean_squared_error(y_train, y_train_pred))},\n",
    "    \n",
    "    \"test\": {\"R2\" : r2_score(y_test, y_pred),\n",
    "    \"mae\" : mean_absolute_error(y_test, y_pred),\n",
    "    \"mse\" : mean_squared_error(y_test, y_pred),\n",
    "    \"rmse\" : np.sqrt(mean_squared_error(y_test, y_pred))}}\n",
    "    \n",
    "    return pd.DataFrame(scores)"
   ]
  },
  {
   "cell_type": "code",
   "execution_count": 26,
   "id": "644ac536",
   "metadata": {
    "id": "644ac536",
    "outputId": "c5537207-2937-487c-ca42-d9ce04dce5cf"
   },
   "outputs": [
    {
     "data": {
      "text/html": [
       "<div>\n",
       "<style scoped>\n",
       "    .dataframe tbody tr th:only-of-type {\n",
       "        vertical-align: middle;\n",
       "    }\n",
       "\n",
       "    .dataframe tbody tr th {\n",
       "        vertical-align: top;\n",
       "    }\n",
       "\n",
       "    .dataframe thead th {\n",
       "        text-align: right;\n",
       "    }\n",
       "</style>\n",
       "<table border=\"1\" class=\"dataframe\">\n",
       "  <thead>\n",
       "    <tr style=\"text-align: right;\">\n",
       "      <th></th>\n",
       "      <th>train</th>\n",
       "      <th>test</th>\n",
       "    </tr>\n",
       "  </thead>\n",
       "  <tbody>\n",
       "    <tr>\n",
       "      <th>R2</th>\n",
       "      <td>1.0</td>\n",
       "      <td>0.940647</td>\n",
       "    </tr>\n",
       "    <tr>\n",
       "      <th>mae</th>\n",
       "      <td>0.0</td>\n",
       "      <td>0.676393</td>\n",
       "    </tr>\n",
       "    <tr>\n",
       "      <th>mse</th>\n",
       "      <td>0.0</td>\n",
       "      <td>1.593069</td>\n",
       "    </tr>\n",
       "    <tr>\n",
       "      <th>rmse</th>\n",
       "      <td>0.0</td>\n",
       "      <td>1.262168</td>\n",
       "    </tr>\n",
       "  </tbody>\n",
       "</table>\n",
       "</div>"
      ],
      "text/plain": [
       "      train      test\n",
       "R2      1.0  0.940647\n",
       "mae     0.0  0.676393\n",
       "mse     0.0  1.593069\n",
       "rmse    0.0  1.262168"
      ]
     },
     "execution_count": 26,
     "metadata": {},
     "output_type": "execute_result"
    }
   ],
   "source": [
    "train_val(pipe_model, X_train, y_train, X_test, y_test)\n",
    "\n",
    "# overfiting olduğuna dair insightımızı aldık. CV'da kesin kararımızı vereceğiz."
   ]
  },
  {
   "cell_type": "code",
   "execution_count": 27,
   "id": "oriented-acting",
   "metadata": {
    "id": "oriented-acting",
    "outputId": "d2e5c4a3-cbb5-4d7a-c72d-3c80be914fbe"
   },
   "outputs": [
    {
     "data": {
      "text/html": [
       "<div>\n",
       "<style scoped>\n",
       "    .dataframe tbody tr th:only-of-type {\n",
       "        vertical-align: middle;\n",
       "    }\n",
       "\n",
       "    .dataframe tbody tr th {\n",
       "        vertical-align: top;\n",
       "    }\n",
       "\n",
       "    .dataframe thead th {\n",
       "        text-align: right;\n",
       "    }\n",
       "</style>\n",
       "<table border=\"1\" class=\"dataframe\">\n",
       "  <thead>\n",
       "    <tr style=\"text-align: right;\">\n",
       "      <th></th>\n",
       "      <th>train</th>\n",
       "      <th>test</th>\n",
       "    </tr>\n",
       "  </thead>\n",
       "  <tbody>\n",
       "    <tr>\n",
       "      <th>R2</th>\n",
       "      <td>1.0</td>\n",
       "      <td>0.940647</td>\n",
       "    </tr>\n",
       "    <tr>\n",
       "      <th>mae</th>\n",
       "      <td>0.0</td>\n",
       "      <td>0.676393</td>\n",
       "    </tr>\n",
       "    <tr>\n",
       "      <th>mse</th>\n",
       "      <td>0.0</td>\n",
       "      <td>1.593069</td>\n",
       "    </tr>\n",
       "    <tr>\n",
       "      <th>rmse</th>\n",
       "      <td>0.0</td>\n",
       "      <td>1.262168</td>\n",
       "    </tr>\n",
       "  </tbody>\n",
       "</table>\n",
       "</div>"
      ],
      "text/plain": [
       "      train      test\n",
       "R2      1.0  0.940647\n",
       "mae     0.0  0.676393\n",
       "mse     0.0  1.593069\n",
       "rmse    0.0  1.262168"
      ]
     },
     "execution_count": 27,
     "metadata": {},
     "output_type": "execute_result"
    }
   ],
   "source": [
    "# pd.options.display.float_format = '{:.3f}'.format\n",
    "train_val(pipe_model, X_train, y_train, X_test, y_test)"
   ]
  },
  {
   "cell_type": "code",
   "execution_count": 28,
   "id": "satellite-animation",
   "metadata": {
    "id": "satellite-animation",
    "outputId": "0e0760f6-22c7-4422-aa4b-22e5b861ceb4"
   },
   "outputs": [
    {
     "data": {
      "text/plain": [
       "test_r2                              8.506384e-01\n",
       "train_r2                             1.000000e+00\n",
       "test_neg_mean_absolute_error        -8.914167e-01\n",
       "train_neg_mean_absolute_error       -3.854941e-20\n",
       "test_neg_mean_squared_error         -4.465591e+00\n",
       "train_neg_mean_squared_error        -1.069961e-36\n",
       "test_neg_root_mean_squared_error    -1.789890e+00\n",
       "train_neg_root_mean_squared_error   -3.271026e-19\n",
       "dtype: float64"
      ]
     },
     "execution_count": 28,
     "metadata": {},
     "output_type": "execute_result"
    }
   ],
   "source": [
    "from sklearn.model_selection import cross_validate\n",
    "\n",
    "operations = [(\"OrdinalEncoder\", column_trans),\n",
    "              (\"DT_model\", DecisionTreeRegressor(random_state=101))]\n",
    "model = Pipeline(steps=operations)\n",
    "\n",
    "scores = cross_validate(model,\n",
    "                        X_train, \n",
    "                        y_train, \n",
    "                        scoring=['r2',\n",
    "                                 'neg_mean_absolute_error',\n",
    "                                 'neg_mean_squared_error',\n",
    "                                 'neg_root_mean_squared_error'],\n",
    "                        cv =10,\n",
    "                        return_train_score=True)\n",
    "\n",
    "df_scores = pd.DataFrame(scores)\n",
    "df_scores.mean()[2:]\n",
    "\n",
    "# overfiting olduğunu teyit ettik"
   ]
  },
  {
   "cell_type": "markdown",
   "id": "014d6aeb",
   "metadata": {
    "id": "014d6aeb"
   },
   "source": [
    "## Removing Outliers"
   ]
  },
  {
   "cell_type": "code",
   "execution_count": 29,
   "id": "6ae86f4a",
   "metadata": {
    "id": "6ae86f4a",
    "outputId": "a4c612df-ea8f-435c-8b57-988cf03baafe"
   },
   "outputs": [
    {
     "data": {
      "image/png": "[encoded data removed]",
      "text/plain": [
       "<Figure size 720x600 with 1 Axes>"
      ]
     },
     "metadata": {},
     "output_type": "display_data"
    }
   ],
   "source": [
    "from yellowbrick.regressor import PredictionError\n",
    "from yellowbrick.features import RadViz\n",
    "\n",
    "visualizer = RadViz(size=(720, 600))\n",
    "\n",
    "model = pipe_model\n",
    "visualizer = PredictionError(model)\n",
    "visualizer.fit(X_train, y_train)  # Fit the training data to the visualizer\n",
    "visualizer.score(X_test, y_test)  # Evaluate the model on the test data\n",
    "visualizer.show();\n",
    "\n",
    "# 10 dan büyük fiyatların tahminleri bozduğunu gördük."
   ]
  },
  {
   "cell_type": "code",
   "execution_count": 30,
   "id": "524ef300",
   "metadata": {
    "id": "524ef300",
    "outputId": "0c058a09-6830-463d-973b-417f178244e1"
   },
   "outputs": [
    {
     "data": {
      "text/plain": [
       "28"
      ]
     },
     "execution_count": 30,
     "metadata": {},
     "output_type": "execute_result"
    }
   ],
   "source": [
    "len(df[df.Selling_Price > 10])\n",
    "\n",
    "# datada 10 üzerinde 28 tane gözle var. Ve tüm datama oranı %9 olduğundan drop ediyorum."
   ]
  },
  {
   "cell_type": "code",
   "execution_count": 31,
   "id": "d7f67003",
   "metadata": {
    "id": "d7f67003",
    "outputId": "86bd3223-5dac-4086-cead-519b70d797a8"
   },
   "outputs": [
    {
     "data": {
      "text/plain": [
       "0.09302325581395349"
      ]
     },
     "execution_count": 31,
     "metadata": {},
     "output_type": "execute_result"
    }
   ],
   "source": [
    "28/301"
   ]
  },
  {
   "cell_type": "code",
   "execution_count": 32,
   "id": "42d519d8",
   "metadata": {
    "id": "42d519d8",
    "outputId": "80bd6033-568f-4ce6-c903-18fe6a0c6725"
   },
   "outputs": [
    {
     "data": {
      "text/html": [
       "<div>\n",
       "<style scoped>\n",
       "    .dataframe tbody tr th:only-of-type {\n",
       "        vertical-align: middle;\n",
       "    }\n",
       "\n",
       "    .dataframe tbody tr th {\n",
       "        vertical-align: top;\n",
       "    }\n",
       "\n",
       "    .dataframe thead th {\n",
       "        text-align: right;\n",
       "    }\n",
       "</style>\n",
       "<table border=\"1\" class=\"dataframe\">\n",
       "  <thead>\n",
       "    <tr style=\"text-align: right;\">\n",
       "      <th></th>\n",
       "      <th>Selling_Price</th>\n",
       "      <th>Present_Price</th>\n",
       "      <th>Kms_Driven</th>\n",
       "      <th>Fuel_Type</th>\n",
       "      <th>Seller_Type</th>\n",
       "      <th>Transmission</th>\n",
       "      <th>Owner</th>\n",
       "      <th>vehicle_age</th>\n",
       "    </tr>\n",
       "  </thead>\n",
       "  <tbody>\n",
       "    <tr>\n",
       "      <th>0</th>\n",
       "      <td>3.35</td>\n",
       "      <td>5.59</td>\n",
       "      <td>27000</td>\n",
       "      <td>Petrol</td>\n",
       "      <td>Dealer</td>\n",
       "      <td>Manual</td>\n",
       "      <td>0</td>\n",
       "      <td>8</td>\n",
       "    </tr>\n",
       "    <tr>\n",
       "      <th>1</th>\n",
       "      <td>4.75</td>\n",
       "      <td>9.54</td>\n",
       "      <td>43000</td>\n",
       "      <td>Diesel</td>\n",
       "      <td>Dealer</td>\n",
       "      <td>Manual</td>\n",
       "      <td>0</td>\n",
       "      <td>9</td>\n",
       "    </tr>\n",
       "    <tr>\n",
       "      <th>2</th>\n",
       "      <td>7.25</td>\n",
       "      <td>9.85</td>\n",
       "      <td>6900</td>\n",
       "      <td>Petrol</td>\n",
       "      <td>Dealer</td>\n",
       "      <td>Manual</td>\n",
       "      <td>0</td>\n",
       "      <td>5</td>\n",
       "    </tr>\n",
       "    <tr>\n",
       "      <th>3</th>\n",
       "      <td>2.85</td>\n",
       "      <td>4.15</td>\n",
       "      <td>5200</td>\n",
       "      <td>Petrol</td>\n",
       "      <td>Dealer</td>\n",
       "      <td>Manual</td>\n",
       "      <td>0</td>\n",
       "      <td>11</td>\n",
       "    </tr>\n",
       "    <tr>\n",
       "      <th>4</th>\n",
       "      <td>4.60</td>\n",
       "      <td>6.87</td>\n",
       "      <td>42450</td>\n",
       "      <td>Diesel</td>\n",
       "      <td>Dealer</td>\n",
       "      <td>Manual</td>\n",
       "      <td>0</td>\n",
       "      <td>8</td>\n",
       "    </tr>\n",
       "  </tbody>\n",
       "</table>\n",
       "</div>"
      ],
      "text/plain": [
       "   Selling_Price  Present_Price  Kms_Driven Fuel_Type Seller_Type  \\\n",
       "0           3.35           5.59       27000    Petrol      Dealer   \n",
       "1           4.75           9.54       43000    Diesel      Dealer   \n",
       "2           7.25           9.85        6900    Petrol      Dealer   \n",
       "3           2.85           4.15        5200    Petrol      Dealer   \n",
       "4           4.60           6.87       42450    Diesel      Dealer   \n",
       "\n",
       "  Transmission  Owner  vehicle_age  \n",
       "0       Manual      0            8  \n",
       "1       Manual      0            9  \n",
       "2       Manual      0            5  \n",
       "3       Manual      0           11  \n",
       "4       Manual      0            8  "
      ]
     },
     "execution_count": 32,
     "metadata": {},
     "output_type": "execute_result"
    }
   ],
   "source": [
    "df_new = df[df.Selling_Price < 10]\n",
    "df_new.head()\n",
    "\n",
    "# 10'dan büyük fiyatları filtreledik"
   ]
  },
  {
   "cell_type": "code",
   "execution_count": 33,
   "id": "bbd9bef2",
   "metadata": {
    "id": "bbd9bef2"
   },
   "outputs": [],
   "source": [
    "X = df_new.drop(columns=\"Selling_Price\")\n",
    "y = df_new.Selling_Price\n",
    "\n",
    "# filtrelenmiş dataya göre tekrar X ve y'mizi tekrar atadık."
   ]
  },
  {
   "cell_type": "code",
   "execution_count": 34,
   "id": "5b2f4452",
   "metadata": {
    "id": "5b2f4452"
   },
   "outputs": [],
   "source": [
    "X_train, X_test, y_train, y_test = train_test_split(X, y, test_size=0.2, random_state=5)\n",
    "\n",
    "# filtrelenmiş datamızı train ve test setlerine ayırdık"
   ]
  },
  {
   "cell_type": "code",
   "execution_count": 35,
   "id": "361486c9",
   "metadata": {
    "id": "361486c9",
    "outputId": "9383e60d-7669-47cf-de72-3bb2ff4af01e"
   },
   "outputs": [
    {
     "data": {
      "text/html": [
       "<style>#sk-container-id-2 {color: black;background-color: white;}#sk-container-id-2 pre{padding: 0;}#sk-container-id-2 div.sk-toggleable {background-color: white;}#sk-container-id-2 label.sk-toggleable__label {cursor: pointer;display: block;width: 100%;margin-bottom: 0;padding: 0.3em;box-sizing: border-box;text-align: center;}#sk-container-id-2 label.sk-toggleable__label-arrow:before {content: \"▸\";float: left;margin-right: 0.25em;color: #696969;}#sk-container-id-2 label.sk-toggleable__label-arrow:hover:before {color: black;}#sk-container-id-2 div.sk-estimator:hover label.sk-toggleable__label-arrow:before {color: black;}#sk-container-id-2 div.sk-toggleable__content {max-height: 0;max-width: 0;overflow: hidden;text-align: left;background-color: #f0f8ff;}#sk-container-id-2 div.sk-toggleable__content pre {margin: 0.2em;color: black;border-radius: 0.25em;background-color: #f0f8ff;}#sk-container-id-2 input.sk-toggleable__control:checked~div.sk-toggleable__content {max-height: 200px;max-width: 100%;overflow: auto;}#sk-container-id-2 input.sk-toggleable__control:checked~label.sk-toggleable__label-arrow:before {content: \"▾\";}#sk-container-id-2 div.sk-estimator input.sk-toggleable__control:checked~label.sk-toggleable__label {background-color: #d4ebff;}#sk-container-id-2 div.sk-label input.sk-toggleable__control:checked~label.sk-toggleable__label {background-color: #d4ebff;}#sk-container-id-2 input.sk-hidden--visually {border: 0;clip: rect(1px 1px 1px 1px);clip: rect(1px, 1px, 1px, 1px);height: 1px;margin: -1px;overflow: hidden;padding: 0;position: absolute;width: 1px;}#sk-container-id-2 div.sk-estimator {font-family: monospace;background-color: #f0f8ff;border: 1px dotted black;border-radius: 0.25em;box-sizing: border-box;margin-bottom: 0.5em;}#sk-container-id-2 div.sk-estimator:hover {background-color: #d4ebff;}#sk-container-id-2 div.sk-parallel-item::after {content: \"\";width: 100%;border-bottom: 1px solid gray;flex-grow: 1;}#sk-container-id-2 div.sk-label:hover label.sk-toggleable__label {background-color: #d4ebff;}#sk-container-id-2 div.sk-serial::before {content: \"\";position: absolute;border-left: 1px solid gray;box-sizing: border-box;top: 0;bottom: 0;left: 50%;z-index: 0;}#sk-container-id-2 div.sk-serial {display: flex;flex-direction: column;align-items: center;background-color: white;padding-right: 0.2em;padding-left: 0.2em;position: relative;}#sk-container-id-2 div.sk-item {position: relative;z-index: 1;}#sk-container-id-2 div.sk-parallel {display: flex;align-items: stretch;justify-content: center;background-color: white;position: relative;}#sk-container-id-2 div.sk-item::before, #sk-container-id-2 div.sk-parallel-item::before {content: \"\";position: absolute;border-left: 1px solid gray;box-sizing: border-box;top: 0;bottom: 0;left: 50%;z-index: -1;}#sk-container-id-2 div.sk-parallel-item {display: flex;flex-direction: column;z-index: 1;position: relative;background-color: white;}#sk-container-id-2 div.sk-parallel-item:first-child::after {align-self: flex-end;width: 50%;}#sk-container-id-2 div.sk-parallel-item:last-child::after {align-self: flex-start;width: 50%;}#sk-container-id-2 div.sk-parallel-item:only-child::after {width: 0;}#sk-container-id-2 div.sk-dashed-wrapped {border: 1px dashed gray;margin: 0 0.4em 0.5em 0.4em;box-sizing: border-box;padding-bottom: 0.4em;background-color: white;}#sk-container-id-2 div.sk-label label {font-family: monospace;font-weight: bold;display: inline-block;line-height: 1.2em;}#sk-container-id-2 div.sk-label-container {text-align: center;}#sk-container-id-2 div.sk-container {/* jupyter's `normalize.less` sets `[hidden] { display: none; }` but bootstrap.min.css set `[hidden] { display: none !important; }` so we also need the `!important` here to be able to override the default hidden behavior on the sphinx rendered scikit-learn.org. See: https://github.com/scikit-learn/scikit-learn/issues/21755 */display: inline-block !important;position: relative;}#sk-container-id-2 div.sk-text-repr-fallback {display: none;}</style><div id=\"sk-container-id-2\" class=\"sk-top-container\"><div class=\"sk-text-repr-fallback\"><pre>Pipeline(steps=[(&#x27;OrdinalEncoder&#x27;,\n",
       "                 ColumnTransformer(remainder=&#x27;passthrough&#x27;,\n",
       "                                   transformers=[(&#x27;ordinalencoder&#x27;,\n",
       "                                                  OrdinalEncoder(handle_unknown=&#x27;use_encoded_value&#x27;,\n",
       "                                                                 unknown_value=-1),\n",
       "                                                  Index([&#x27;Fuel_Type&#x27;, &#x27;Seller_Type&#x27;, &#x27;Transmission&#x27;], dtype=&#x27;object&#x27;))])),\n",
       "                (&#x27;DT_model&#x27;, DecisionTreeRegressor(random_state=101))])</pre><b>In a Jupyter environment, please rerun this cell to show the HTML representation or trust the notebook. <br />On GitHub, the HTML representation is unable to render, please try loading this page with nbviewer.org.</b></div><div class=\"sk-container\" hidden><div class=\"sk-item sk-dashed-wrapped\"><div class=\"sk-label-container\"><div class=\"sk-label sk-toggleable\"><input class=\"sk-toggleable__control sk-hidden--visually\" id=\"sk-estimator-id-8\" type=\"checkbox\" ><label for=\"sk-estimator-id-8\" class=\"sk-toggleable__label sk-toggleable__label-arrow\">Pipeline</label><div class=\"sk-toggleable__content\"><pre>Pipeline(steps=[(&#x27;OrdinalEncoder&#x27;,\n",
       "                 ColumnTransformer(remainder=&#x27;passthrough&#x27;,\n",
       "                                   transformers=[(&#x27;ordinalencoder&#x27;,\n",
       "                                                  OrdinalEncoder(handle_unknown=&#x27;use_encoded_value&#x27;,\n",
       "                                                                 unknown_value=-1),\n",
       "                                                  Index([&#x27;Fuel_Type&#x27;, &#x27;Seller_Type&#x27;, &#x27;Transmission&#x27;], dtype=&#x27;object&#x27;))])),\n",
       "                (&#x27;DT_model&#x27;, DecisionTreeRegressor(random_state=101))])</pre></div></div></div><div class=\"sk-serial\"><div class=\"sk-item sk-dashed-wrapped\"><div class=\"sk-label-container\"><div class=\"sk-label sk-toggleable\"><input class=\"sk-toggleable__control sk-hidden--visually\" id=\"sk-estimator-id-9\" type=\"checkbox\" ><label for=\"sk-estimator-id-9\" class=\"sk-toggleable__label sk-toggleable__label-arrow\">OrdinalEncoder: ColumnTransformer</label><div class=\"sk-toggleable__content\"><pre>ColumnTransformer(remainder=&#x27;passthrough&#x27;,\n",
       "                  transformers=[(&#x27;ordinalencoder&#x27;,\n",
       "                                 OrdinalEncoder(handle_unknown=&#x27;use_encoded_value&#x27;,\n",
       "                                                unknown_value=-1),\n",
       "                                 Index([&#x27;Fuel_Type&#x27;, &#x27;Seller_Type&#x27;, &#x27;Transmission&#x27;], dtype=&#x27;object&#x27;))])</pre></div></div></div><div class=\"sk-parallel\"><div class=\"sk-parallel-item\"><div class=\"sk-item\"><div class=\"sk-label-container\"><div class=\"sk-label sk-toggleable\"><input class=\"sk-toggleable__control sk-hidden--visually\" id=\"sk-estimator-id-10\" type=\"checkbox\" ><label for=\"sk-estimator-id-10\" class=\"sk-toggleable__label sk-toggleable__label-arrow\">ordinalencoder</label><div class=\"sk-toggleable__content\"><pre>Index([&#x27;Fuel_Type&#x27;, &#x27;Seller_Type&#x27;, &#x27;Transmission&#x27;], dtype=&#x27;object&#x27;)</pre></div></div></div><div class=\"sk-serial\"><div class=\"sk-item\"><div class=\"sk-estimator sk-toggleable\"><input class=\"sk-toggleable__control sk-hidden--visually\" id=\"sk-estimator-id-11\" type=\"checkbox\" ><label for=\"sk-estimator-id-11\" class=\"sk-toggleable__label sk-toggleable__label-arrow\">OrdinalEncoder</label><div class=\"sk-toggleable__content\"><pre>OrdinalEncoder(handle_unknown=&#x27;use_encoded_value&#x27;, unknown_value=-1)</pre></div></div></div></div></div></div><div class=\"sk-parallel-item\"><div class=\"sk-item\"><div class=\"sk-label-container\"><div class=\"sk-label sk-toggleable\"><input class=\"sk-toggleable__control sk-hidden--visually\" id=\"sk-estimator-id-12\" type=\"checkbox\" ><label for=\"sk-estimator-id-12\" class=\"sk-toggleable__label sk-toggleable__label-arrow\">remainder</label><div class=\"sk-toggleable__content\"><pre>[&#x27;Present_Price&#x27;, &#x27;Kms_Driven&#x27;, &#x27;Owner&#x27;, &#x27;vehicle_age&#x27;]</pre></div></div></div><div class=\"sk-serial\"><div class=\"sk-item\"><div class=\"sk-estimator sk-toggleable\"><input class=\"sk-toggleable__control sk-hidden--visually\" id=\"sk-estimator-id-13\" type=\"checkbox\" ><label for=\"sk-estimator-id-13\" class=\"sk-toggleable__label sk-toggleable__label-arrow\">passthrough</label><div class=\"sk-toggleable__content\"><pre>passthrough</pre></div></div></div></div></div></div></div></div><div class=\"sk-item\"><div class=\"sk-estimator sk-toggleable\"><input class=\"sk-toggleable__control sk-hidden--visually\" id=\"sk-estimator-id-14\" type=\"checkbox\" ><label for=\"sk-estimator-id-14\" class=\"sk-toggleable__label sk-toggleable__label-arrow\">DecisionTreeRegressor</label><div class=\"sk-toggleable__content\"><pre>DecisionTreeRegressor(random_state=101)</pre></div></div></div></div></div></div></div>"
      ],
      "text/plain": [
       "Pipeline(steps=[('OrdinalEncoder',\n",
       "                 ColumnTransformer(remainder='passthrough',\n",
       "                                   transformers=[('ordinalencoder',\n",
       "                                                  OrdinalEncoder(handle_unknown='use_encoded_value',\n",
       "                                                                 unknown_value=-1),\n",
       "                                                  Index(['Fuel_Type', 'Seller_Type', 'Transmission'], dtype='object'))])),\n",
       "                ('DT_model', DecisionTreeRegressor(random_state=101))])"
      ]
     },
     "execution_count": 35,
     "metadata": {},
     "output_type": "execute_result"
    }
   ],
   "source": [
    "operations = [(\"OrdinalEncoder\", column_trans), (\"DT_model\", DecisionTreeRegressor(random_state=101))]\n",
    "\n",
    "pipe_model = Pipeline(steps=operations)\n",
    "\n",
    "pipe_model.fit(X_train, y_train)"
   ]
  },
  {
   "cell_type": "code",
   "execution_count": 36,
   "id": "7297ba5b",
   "metadata": {
    "id": "7297ba5b",
    "outputId": "53af251b-09fd-4d6a-ad3b-cb03d8effe10"
   },
   "outputs": [
    {
     "data": {
      "text/html": [
       "<div>\n",
       "<style scoped>\n",
       "    .dataframe tbody tr th:only-of-type {\n",
       "        vertical-align: middle;\n",
       "    }\n",
       "\n",
       "    .dataframe tbody tr th {\n",
       "        vertical-align: top;\n",
       "    }\n",
       "\n",
       "    .dataframe thead th {\n",
       "        text-align: right;\n",
       "    }\n",
       "</style>\n",
       "<table border=\"1\" class=\"dataframe\">\n",
       "  <thead>\n",
       "    <tr style=\"text-align: right;\">\n",
       "      <th></th>\n",
       "      <th>train</th>\n",
       "      <th>test</th>\n",
       "    </tr>\n",
       "  </thead>\n",
       "  <tbody>\n",
       "    <tr>\n",
       "      <th>R2</th>\n",
       "      <td>1.000000e+00</td>\n",
       "      <td>0.944856</td>\n",
       "    </tr>\n",
       "    <tr>\n",
       "      <th>mae</th>\n",
       "      <td>3.819575e-19</td>\n",
       "      <td>0.410000</td>\n",
       "    </tr>\n",
       "    <tr>\n",
       "      <th>mse</th>\n",
       "      <td>1.060145e-35</td>\n",
       "      <td>0.376744</td>\n",
       "    </tr>\n",
       "    <tr>\n",
       "      <th>rmse</th>\n",
       "      <td>3.255987e-18</td>\n",
       "      <td>0.613794</td>\n",
       "    </tr>\n",
       "  </tbody>\n",
       "</table>\n",
       "</div>"
      ],
      "text/plain": [
       "             train      test\n",
       "R2    1.000000e+00  0.944856\n",
       "mae   3.819575e-19  0.410000\n",
       "mse   1.060145e-35  0.376744\n",
       "rmse  3.255987e-18  0.613794"
      ]
     },
     "execution_count": 36,
     "metadata": {},
     "output_type": "execute_result"
    }
   ],
   "source": [
    "train_val(pipe_model, X_train, y_train, X_test, y_test)\n",
    "\n",
    "# filtreleme işlemi sonrası test datamızın skorları daha da iyileşti ancak overfiting hala giderilemedi."
   ]
  },
  {
   "cell_type": "markdown",
   "id": "eee66477",
   "metadata": {
    "id": "eee66477"
   },
   "source": [
    "       train\ttest\n",
    "R2\t   1.000\t0.941\n",
    "mae\t   0.000\t0.676\n",
    "mse\t   0.000\t1.593\n",
    "rmse   0.000\t1.262"
   ]
  },
  {
   "cell_type": "code",
   "execution_count": 37,
   "id": "1eff94e0",
   "metadata": {
    "id": "1eff94e0",
    "outputId": "3739dc51-a307-4358-c052-3369ffc0c86a"
   },
   "outputs": [
    {
     "data": {
      "image/png": "[encoded data removed]",
      "text/plain": [
       "<Figure size 720x3000 with 1 Axes>"
      ]
     },
     "metadata": {},
     "output_type": "display_data"
    }
   ],
   "source": [
    "visualizer = RadViz(size=(720, 3000))\n",
    "\n",
    "model = pipe_model\n",
    "visualizer = PredictionError(model)\n",
    "visualizer.fit(X_train, y_train)  # Fit the training data to the visualizer\n",
    "visualizer.score(X_test, y_test)  # Evaluate the model on the test data\n",
    "visualizer.show();\n",
    "\n",
    "# Filtreleme sonrası skorların daha iyileştiğini burda da görüyoruz."
   ]
  },
  {
   "cell_type": "markdown",
   "id": "ignored-intensity",
   "metadata": {
    "id": "ignored-intensity"
   },
   "source": [
    "## Visualizing trees"
   ]
  },
  {
   "cell_type": "code",
   "execution_count": 38,
   "id": "infectious-cricket",
   "metadata": {
    "id": "infectious-cricket"
   },
   "outputs": [],
   "source": [
    "from sklearn.tree import plot_tree"
   ]
  },
  {
   "cell_type": "code",
   "execution_count": 39,
   "id": "9b87598a",
   "metadata": {
    "id": "9b87598a",
    "outputId": "e4b84de1-92cf-43b5-aa2e-be9263556cfa"
   },
   "outputs": [
    {
     "data": {
      "text/plain": [
       "['Fuel_Type',\n",
       " 'Seller_Type',\n",
       " 'Transmission',\n",
       " 'Present_Price',\n",
       " 'Kms_Driven',\n",
       " 'Owner',\n",
       " 'vehicle_age']"
      ]
     },
     "execution_count": 39,
     "metadata": {},
     "output_type": "execute_result"
    }
   ],
   "source": [
    "features = pipe_model[\"OrdinalEncoder\"].get_feature_names_out()\n",
    "\n",
    "new_features = [i.replace(\"ordinalencoder__\",\"\").replace(\"remainder__\", \"\") for i in features]\n",
    "new_features\n",
    "\n",
    "# pipeline içerisinde make_column_transform fonksiyonu kullanıldığından feature sırlamasının değiştiğini unutmuyoruz.\n",
    "# ordinalencoder__ ve remainder__ ön eklerinden kurtuluyoruz."
   ]
  },
  {
   "cell_type": "code",
   "execution_count": 40,
   "id": "cbc6e677",
   "metadata": {
    "id": "cbc6e677",
    "outputId": "29fb317a-5164-480b-9032-681a79ba9bc1"
   },
   "outputs": [
    {
     "data": {
      "text/html": [
       "<div>\n",
       "<style scoped>\n",
       "    .dataframe tbody tr th:only-of-type {\n",
       "        vertical-align: middle;\n",
       "    }\n",
       "\n",
       "    .dataframe tbody tr th {\n",
       "        vertical-align: top;\n",
       "    }\n",
       "\n",
       "    .dataframe thead th {\n",
       "        text-align: right;\n",
       "    }\n",
       "</style>\n",
       "<table border=\"1\" class=\"dataframe\">\n",
       "  <thead>\n",
       "    <tr style=\"text-align: right;\">\n",
       "      <th></th>\n",
       "      <th>Fuel_Type</th>\n",
       "      <th>Seller_Type</th>\n",
       "      <th>Transmission</th>\n",
       "      <th>Present_Price</th>\n",
       "      <th>Kms_Driven</th>\n",
       "      <th>Owner</th>\n",
       "      <th>vehicle_age</th>\n",
       "    </tr>\n",
       "  </thead>\n",
       "  <tbody>\n",
       "    <tr>\n",
       "      <th>0</th>\n",
       "      <td>2.0</td>\n",
       "      <td>0.0</td>\n",
       "      <td>1.0</td>\n",
       "      <td>10.0</td>\n",
       "      <td>18828.0</td>\n",
       "      <td>0.0</td>\n",
       "      <td>7.0</td>\n",
       "    </tr>\n",
       "  </tbody>\n",
       "</table>\n",
       "</div>"
      ],
      "text/plain": [
       "   Fuel_Type  Seller_Type  Transmission  Present_Price  Kms_Driven  Owner  \\\n",
       "0        2.0          0.0           1.0           10.0     18828.0    0.0   \n",
       "\n",
       "   vehicle_age  \n",
       "0          7.0  "
      ]
     },
     "execution_count": 40,
     "metadata": {},
     "output_type": "execute_result"
    }
   ],
   "source": [
    "pd.DataFrame(pipe_model[\"OrdinalEncoder\"].fit_transform(X_train), columns=new_features).head(1)\n",
    "\n",
    "# make_column_transform sonrası yapısı değişen df'in son hali. Gördüğünüz gibi kategorik featurlar en öne takiben numaric\n",
    "# featurlar gelmiş."
   ]
  },
  {
   "cell_type": "code",
   "execution_count": 41,
   "id": "7eaf60d4",
   "metadata": {
    "id": "7eaf60d4",
    "outputId": "4300bd3f-5441-4ff2-8938-9f159e13d168"
   },
   "outputs": [
    {
     "data": {
      "text/html": [
       "<div>\n",
       "<style scoped>\n",
       "    .dataframe tbody tr th:only-of-type {\n",
       "        vertical-align: middle;\n",
       "    }\n",
       "\n",
       "    .dataframe tbody tr th {\n",
       "        vertical-align: top;\n",
       "    }\n",
       "\n",
       "    .dataframe thead th {\n",
       "        text-align: right;\n",
       "    }\n",
       "</style>\n",
       "<table border=\"1\" class=\"dataframe\">\n",
       "  <thead>\n",
       "    <tr style=\"text-align: right;\">\n",
       "      <th></th>\n",
       "      <th>Present_Price</th>\n",
       "      <th>Kms_Driven</th>\n",
       "      <th>Fuel_Type</th>\n",
       "      <th>Seller_Type</th>\n",
       "      <th>Transmission</th>\n",
       "      <th>Owner</th>\n",
       "      <th>vehicle_age</th>\n",
       "    </tr>\n",
       "  </thead>\n",
       "  <tbody>\n",
       "    <tr>\n",
       "      <th>269</th>\n",
       "      <td>10.0</td>\n",
       "      <td>18828</td>\n",
       "      <td>Petrol</td>\n",
       "      <td>Dealer</td>\n",
       "      <td>Manual</td>\n",
       "      <td>0</td>\n",
       "      <td>7</td>\n",
       "    </tr>\n",
       "  </tbody>\n",
       "</table>\n",
       "</div>"
      ],
      "text/plain": [
       "     Present_Price  Kms_Driven Fuel_Type Seller_Type Transmission  Owner  \\\n",
       "269           10.0       18828    Petrol      Dealer       Manual      0   \n",
       "\n",
       "     vehicle_age  \n",
       "269            7  "
      ]
     },
     "execution_count": 41,
     "metadata": {},
     "output_type": "execute_result"
    }
   ],
   "source": [
    "X_train.head(1)"
   ]
  },
  {
   "cell_type": "code",
   "execution_count": 42,
   "id": "every-development",
   "metadata": {
    "id": "every-development",
    "outputId": "61ad0c62-3aaf-46e6-a354-dcb7ec1be40d"
   },
   "outputs": [
    {
     "data": {
      "image/png": "[encoded data removed]",
      "text/plain": [
       "<Figure size 1800x1200 with 1 Axes>"
      ]
     },
     "metadata": {},
     "output_type": "display_data"
    }
   ],
   "source": [
    "plt.figure(figsize=(12,8), dpi=150)\n",
    "plot_tree(pipe_model[\"DT_model\"], filled=True, feature_names=new_features); #feature_names=X.columns\n",
    "\n",
    "# tree based modellerin regression problemlerinde dallanmalar classification problemlerine nazaran çok daha fazla olur."
   ]
  },
  {
   "cell_type": "code",
   "execution_count": 43,
   "id": "returning-alexandria",
   "metadata": {
    "id": "returning-alexandria"
   },
   "outputs": [],
   "source": [
    "def report_model(model):\n",
    "    y_pred = model.predict(X_test)\n",
    "    y_train_pred = model.predict(X_train)\n",
    "    print('\\n')\n",
    "    print(train_val(model, X_train, y_train, X_test, y_test))\n",
    "    print('\\n')\n",
    "    plt.figure(figsize=(12,8),dpi=100)\n",
    "    plot_tree(model[\"DT_model\"],filled=True, feature_names=new_features, fontsize=8); #feature_names=X.columns\n",
    "\n",
    "# Bu fonksiyon ile train ve test seti skorlarını karşılaştırıp ağacımızı görselleştiriyoruz."
   ]
  },
  {
   "cell_type": "code",
   "execution_count": 44,
   "id": "sensitive-federation",
   "metadata": {
    "id": "sensitive-federation",
    "outputId": "39b62791-4224-4208-bd76-8f19eb4941dd"
   },
   "outputs": [
    {
     "name": "stdout",
     "output_type": "stream",
     "text": [
      "\n",
      "\n",
      "         train      test\n",
      "R2    0.886997  0.889648\n",
      "mae   0.577921  0.574322\n",
      "mse   0.815377  0.753927\n",
      "rmse  0.902982  0.868289\n",
      "\n",
      "\n"
     ]
    },
    {
     "data": {
      "image/png": "[encoded data removed]",
      "text/plain": [
       "<Figure size 1200x800 with 1 Axes>"
      ]
     },
     "metadata": {},
     "output_type": "display_data"
    }
   ],
   "source": [
    "operations = [(\"OrdinalEncoder\", column_trans), \n",
    "              (\"DT_model\", DecisionTreeRegressor(criterion='squared_error',\n",
    "                                                 max_depth=3,\n",
    "                                                 random_state=101))]\n",
    "\n",
    "pruned_tree = Pipeline(steps=operations)\n",
    "pruned_tree.fit(X_train,y_train)\n",
    "\n",
    "report_model(pruned_tree)\n",
    "\n",
    "# clasificationdan tek farkı criterion='squared_error'dür. Hatırlarsanız clasification da bu hyper_parametre gini veya entropy\n",
    "# oluyordu. Regressionda criterion= \"squared_error\", \"friedman_mse\", \"absolute_error\", \"poisson\" değerlerinden birini \n",
    "# alabiliyor. Ama genellikle model en iyi sonuçları \"squared_error\"da aldığı için default olarak bu değer kullanılıyor.\n",
    "\n",
    "# squared error, mean squared error'ü temsil ediyor.Bir yaprağın errorünün 0 olması o yaparağa düşen tüm arabaların aynı fiyatta\n",
    "# olduğunu gösterirken 0'a yakın bir değer olması fiyatları biribirine çok yakın arabalar olduğunu gösterir Yüksek bir error \n",
    "# değeri ise o yaprağa fiyatları biribirinden çok alakasız arabaların düştüğünü gösterir. \n",
    "\n",
    "# sampales ilgili yapraktaki toplam gözlem sayısını gösterir.\n",
    "\n",
    "# value ilgili yapraktaki gözlemlerin ortalama fiyatını gösterir.\n",
    "\n",
    "# predict ettiğimiz bir gözle hangi yaprağa düşerse o yapraktaki value değeri arabanın model tarafından tahmin edilen değeri\n",
    "# olur."
   ]
  },
  {
   "cell_type": "markdown",
   "id": "growing-landscape",
   "metadata": {
    "id": "growing-landscape"
   },
   "source": [
    "## GridSearch"
   ]
  },
  {
   "cell_type": "code",
   "execution_count": 45,
   "id": "activated-korea",
   "metadata": {
    "id": "activated-korea"
   },
   "outputs": [],
   "source": [
    "from sklearn.model_selection import GridSearchCV"
   ]
  },
  {
   "cell_type": "code",
   "execution_count": 46,
   "id": "tutorial-gates",
   "metadata": {
    "id": "tutorial-gates"
   },
   "outputs": [],
   "source": [
    "operations = [(\"OrdinalEncoder\", column_trans),\n",
    "              (\"DT_model\", DecisionTreeRegressor(random_state=101))]\n",
    "\n",
    "pipe_model = Pipeline(steps=operations)"
   ]
  },
  {
   "cell_type": "code",
   "execution_count": 47,
   "id": "virgin-boards",
   "metadata": {
    "id": "virgin-boards"
   },
   "outputs": [],
   "source": [
    "param_grid = {\"DT_model__splitter\":[\"best\", \"random\"],\n",
    "              \"DT_model__criterion\":[\"squared_error\", \"friedman_mse\", \"absolute_error\", \"poisson\"],\n",
    "              \"DT_model__max_depth\": [2, 3],\n",
    "              \"DT_model__min_samples_leaf\": [1, 2, 3, 4],\n",
    "              \"DT_model__min_samples_split\": [2, 3, 4],\n",
    "              \"DT_model__max_features\":[4, 5, 6, None]}"
   ]
  },
  {
   "cell_type": "code",
   "execution_count": 48,
   "id": "basic-bailey",
   "metadata": {
    "id": "basic-bailey"
   },
   "outputs": [],
   "source": [
    "grid_model = GridSearchCV(estimator=pipe_model,\n",
    "                          param_grid=param_grid,\n",
    "                          scoring='neg_root_mean_squared_error',\n",
    "                          cv=10,\n",
    "                          n_jobs=-1,\n",
    "                          return_train_score=True)"
   ]
  },
  {
   "cell_type": "code",
   "execution_count": 49,
   "id": "geological-polls",
   "metadata": {
    "id": "geological-polls",
    "outputId": "ea249c29-3881-4f27-8e75-9405640fddb4"
   },
   "outputs": [
    {
     "data": {
      "text/html": [
       "<style>#sk-container-id-3 {color: black;background-color: white;}#sk-container-id-3 pre{padding: 0;}#sk-container-id-3 div.sk-toggleable {background-color: white;}#sk-container-id-3 label.sk-toggleable__label {cursor: pointer;display: block;width: 100%;margin-bottom: 0;padding: 0.3em;box-sizing: border-box;text-align: center;}#sk-container-id-3 label.sk-toggleable__label-arrow:before {content: \"▸\";float: left;margin-right: 0.25em;color: #696969;}#sk-container-id-3 label.sk-toggleable__label-arrow:hover:before {color: black;}#sk-container-id-3 div.sk-estimator:hover label.sk-toggleable__label-arrow:before {color: black;}#sk-container-id-3 div.sk-toggleable__content {max-height: 0;max-width: 0;overflow: hidden;text-align: left;background-color: #f0f8ff;}#sk-container-id-3 div.sk-toggleable__content pre {margin: 0.2em;color: black;border-radius: 0.25em;background-color: #f0f8ff;}#sk-container-id-3 input.sk-toggleable__control:checked~div.sk-toggleable__content {max-height: 200px;max-width: 100%;overflow: auto;}#sk-container-id-3 input.sk-toggleable__control:checked~label.sk-toggleable__label-arrow:before {content: \"▾\";}#sk-container-id-3 div.sk-estimator input.sk-toggleable__control:checked~label.sk-toggleable__label {background-color: #d4ebff;}#sk-container-id-3 div.sk-label input.sk-toggleable__control:checked~label.sk-toggleable__label {background-color: #d4ebff;}#sk-container-id-3 input.sk-hidden--visually {border: 0;clip: rect(1px 1px 1px 1px);clip: rect(1px, 1px, 1px, 1px);height: 1px;margin: -1px;overflow: hidden;padding: 0;position: absolute;width: 1px;}#sk-container-id-3 div.sk-estimator {font-family: monospace;background-color: #f0f8ff;border: 1px dotted black;border-radius: 0.25em;box-sizing: border-box;margin-bottom: 0.5em;}#sk-container-id-3 div.sk-estimator:hover {background-color: #d4ebff;}#sk-container-id-3 div.sk-parallel-item::after {content: \"\";width: 100%;border-bottom: 1px solid gray;flex-grow: 1;}#sk-container-id-3 div.sk-label:hover label.sk-toggleable__label {background-color: #d4ebff;}#sk-container-id-3 div.sk-serial::before {content: \"\";position: absolute;border-left: 1px solid gray;box-sizing: border-box;top: 0;bottom: 0;left: 50%;z-index: 0;}#sk-container-id-3 div.sk-serial {display: flex;flex-direction: column;align-items: center;background-color: white;padding-right: 0.2em;padding-left: 0.2em;position: relative;}#sk-container-id-3 div.sk-item {position: relative;z-index: 1;}#sk-container-id-3 div.sk-parallel {display: flex;align-items: stretch;justify-content: center;background-color: white;position: relative;}#sk-container-id-3 div.sk-item::before, #sk-container-id-3 div.sk-parallel-item::before {content: \"\";position: absolute;border-left: 1px solid gray;box-sizing: border-box;top: 0;bottom: 0;left: 50%;z-index: -1;}#sk-container-id-3 div.sk-parallel-item {display: flex;flex-direction: column;z-index: 1;position: relative;background-color: white;}#sk-container-id-3 div.sk-parallel-item:first-child::after {align-self: flex-end;width: 50%;}#sk-container-id-3 div.sk-parallel-item:last-child::after {align-self: flex-start;width: 50%;}#sk-container-id-3 div.sk-parallel-item:only-child::after {width: 0;}#sk-container-id-3 div.sk-dashed-wrapped {border: 1px dashed gray;margin: 0 0.4em 0.5em 0.4em;box-sizing: border-box;padding-bottom: 0.4em;background-color: white;}#sk-container-id-3 div.sk-label label {font-family: monospace;font-weight: bold;display: inline-block;line-height: 1.2em;}#sk-container-id-3 div.sk-label-container {text-align: center;}#sk-container-id-3 div.sk-container {/* jupyter's `normalize.less` sets `[hidden] { display: none; }` but bootstrap.min.css set `[hidden] { display: none !important; }` so we also need the `!important` here to be able to override the default hidden behavior on the sphinx rendered scikit-learn.org. See: https://github.com/scikit-learn/scikit-learn/issues/21755 */display: inline-block !important;position: relative;}#sk-container-id-3 div.sk-text-repr-fallback {display: none;}</style><div id=\"sk-container-id-3\" class=\"sk-top-container\"><div class=\"sk-text-repr-fallback\"><pre>GridSearchCV(cv=10,\n",
       "             estimator=Pipeline(steps=[(&#x27;OrdinalEncoder&#x27;,\n",
       "                                        ColumnTransformer(remainder=&#x27;passthrough&#x27;,\n",
       "                                                          transformers=[(&#x27;ordinalencoder&#x27;,\n",
       "                                                                         OrdinalEncoder(handle_unknown=&#x27;use_encoded_value&#x27;,\n",
       "                                                                                        unknown_value=-1),\n",
       "                                                                         Index([&#x27;Fuel_Type&#x27;, &#x27;Seller_Type&#x27;, &#x27;Transmission&#x27;], dtype=&#x27;object&#x27;))])),\n",
       "                                       (&#x27;DT_model&#x27;,\n",
       "                                        DecisionTreeRegressor(random_state=101))]),\n",
       "             n_jobs=-1,\n",
       "             param_grid={&#x27;DT_model__criterion&#x27;: [&#x27;squared_error&#x27;,\n",
       "                                                 &#x27;friedman_mse&#x27;,\n",
       "                                                 &#x27;absolute_error&#x27;, &#x27;poisson&#x27;],\n",
       "                         &#x27;DT_model__max_depth&#x27;: [2, 3],\n",
       "                         &#x27;DT_model__max_features&#x27;: [4, 5, 6, None],\n",
       "                         &#x27;DT_model__min_samples_leaf&#x27;: [1, 2, 3, 4],\n",
       "                         &#x27;DT_model__min_samples_split&#x27;: [2, 3, 4],\n",
       "                         &#x27;DT_model__splitter&#x27;: [&#x27;best&#x27;, &#x27;random&#x27;]},\n",
       "             return_train_score=True, scoring=&#x27;neg_root_mean_squared_error&#x27;)</pre><b>In a Jupyter environment, please rerun this cell to show the HTML representation or trust the notebook. <br />On GitHub, the HTML representation is unable to render, please try loading this page with nbviewer.org.</b></div><div class=\"sk-container\" hidden><div class=\"sk-item sk-dashed-wrapped\"><div class=\"sk-label-container\"><div class=\"sk-label sk-toggleable\"><input class=\"sk-toggleable__control sk-hidden--visually\" id=\"sk-estimator-id-15\" type=\"checkbox\" ><label for=\"sk-estimator-id-15\" class=\"sk-toggleable__label sk-toggleable__label-arrow\">GridSearchCV</label><div class=\"sk-toggleable__content\"><pre>GridSearchCV(cv=10,\n",
       "             estimator=Pipeline(steps=[(&#x27;OrdinalEncoder&#x27;,\n",
       "                                        ColumnTransformer(remainder=&#x27;passthrough&#x27;,\n",
       "                                                          transformers=[(&#x27;ordinalencoder&#x27;,\n",
       "                                                                         OrdinalEncoder(handle_unknown=&#x27;use_encoded_value&#x27;,\n",
       "                                                                                        unknown_value=-1),\n",
       "                                                                         Index([&#x27;Fuel_Type&#x27;, &#x27;Seller_Type&#x27;, &#x27;Transmission&#x27;], dtype=&#x27;object&#x27;))])),\n",
       "                                       (&#x27;DT_model&#x27;,\n",
       "                                        DecisionTreeRegressor(random_state=101))]),\n",
       "             n_jobs=-1,\n",
       "             param_grid={&#x27;DT_model__criterion&#x27;: [&#x27;squared_error&#x27;,\n",
       "                                                 &#x27;friedman_mse&#x27;,\n",
       "                                                 &#x27;absolute_error&#x27;, &#x27;poisson&#x27;],\n",
       "                         &#x27;DT_model__max_depth&#x27;: [2, 3],\n",
       "                         &#x27;DT_model__max_features&#x27;: [4, 5, 6, None],\n",
       "                         &#x27;DT_model__min_samples_leaf&#x27;: [1, 2, 3, 4],\n",
       "                         &#x27;DT_model__min_samples_split&#x27;: [2, 3, 4],\n",
       "                         &#x27;DT_model__splitter&#x27;: [&#x27;best&#x27;, &#x27;random&#x27;]},\n",
       "             return_train_score=True, scoring=&#x27;neg_root_mean_squared_error&#x27;)</pre></div></div></div><div class=\"sk-parallel\"><div class=\"sk-parallel-item\"><div class=\"sk-item\"><div class=\"sk-label-container\"><div class=\"sk-label sk-toggleable\"><input class=\"sk-toggleable__control sk-hidden--visually\" id=\"sk-estimator-id-16\" type=\"checkbox\" ><label for=\"sk-estimator-id-16\" class=\"sk-toggleable__label sk-toggleable__label-arrow\">estimator: Pipeline</label><div class=\"sk-toggleable__content\"><pre>Pipeline(steps=[(&#x27;OrdinalEncoder&#x27;,\n",
       "                 ColumnTransformer(remainder=&#x27;passthrough&#x27;,\n",
       "                                   transformers=[(&#x27;ordinalencoder&#x27;,\n",
       "                                                  OrdinalEncoder(handle_unknown=&#x27;use_encoded_value&#x27;,\n",
       "                                                                 unknown_value=-1),\n",
       "                                                  Index([&#x27;Fuel_Type&#x27;, &#x27;Seller_Type&#x27;, &#x27;Transmission&#x27;], dtype=&#x27;object&#x27;))])),\n",
       "                (&#x27;DT_model&#x27;, DecisionTreeRegressor(random_state=101))])</pre></div></div></div><div class=\"sk-serial\"><div class=\"sk-item\"><div class=\"sk-serial\"><div class=\"sk-item sk-dashed-wrapped\"><div class=\"sk-label-container\"><div class=\"sk-label sk-toggleable\"><input class=\"sk-toggleable__control sk-hidden--visually\" id=\"sk-estimator-id-17\" type=\"checkbox\" ><label for=\"sk-estimator-id-17\" class=\"sk-toggleable__label sk-toggleable__label-arrow\">OrdinalEncoder: ColumnTransformer</label><div class=\"sk-toggleable__content\"><pre>ColumnTransformer(remainder=&#x27;passthrough&#x27;,\n",
       "                  transformers=[(&#x27;ordinalencoder&#x27;,\n",
       "                                 OrdinalEncoder(handle_unknown=&#x27;use_encoded_value&#x27;,\n",
       "                                                unknown_value=-1),\n",
       "                                 Index([&#x27;Fuel_Type&#x27;, &#x27;Seller_Type&#x27;, &#x27;Transmission&#x27;], dtype=&#x27;object&#x27;))])</pre></div></div></div><div class=\"sk-parallel\"><div class=\"sk-parallel-item\"><div class=\"sk-item\"><div class=\"sk-label-container\"><div class=\"sk-label sk-toggleable\"><input class=\"sk-toggleable__control sk-hidden--visually\" id=\"sk-estimator-id-18\" type=\"checkbox\" ><label for=\"sk-estimator-id-18\" class=\"sk-toggleable__label sk-toggleable__label-arrow\">ordinalencoder</label><div class=\"sk-toggleable__content\"><pre>Index([&#x27;Fuel_Type&#x27;, &#x27;Seller_Type&#x27;, &#x27;Transmission&#x27;], dtype=&#x27;object&#x27;)</pre></div></div></div><div class=\"sk-serial\"><div class=\"sk-item\"><div class=\"sk-estimator sk-toggleable\"><input class=\"sk-toggleable__control sk-hidden--visually\" id=\"sk-estimator-id-19\" type=\"checkbox\" ><label for=\"sk-estimator-id-19\" class=\"sk-toggleable__label sk-toggleable__label-arrow\">OrdinalEncoder</label><div class=\"sk-toggleable__content\"><pre>OrdinalEncoder(handle_unknown=&#x27;use_encoded_value&#x27;, unknown_value=-1)</pre></div></div></div></div></div></div><div class=\"sk-parallel-item\"><div class=\"sk-item\"><div class=\"sk-label-container\"><div class=\"sk-label sk-toggleable\"><input class=\"sk-toggleable__control sk-hidden--visually\" id=\"sk-estimator-id-20\" type=\"checkbox\" ><label for=\"sk-estimator-id-20\" class=\"sk-toggleable__label sk-toggleable__label-arrow\">remainder</label><div class=\"sk-toggleable__content\"><pre>[&#x27;Present_Price&#x27;, &#x27;Kms_Driven&#x27;, &#x27;Owner&#x27;, &#x27;vehicle_age&#x27;]</pre></div></div></div><div class=\"sk-serial\"><div class=\"sk-item\"><div class=\"sk-estimator sk-toggleable\"><input class=\"sk-toggleable__control sk-hidden--visually\" id=\"sk-estimator-id-21\" type=\"checkbox\" ><label for=\"sk-estimator-id-21\" class=\"sk-toggleable__label sk-toggleable__label-arrow\">passthrough</label><div class=\"sk-toggleable__content\"><pre>passthrough</pre></div></div></div></div></div></div></div></div><div class=\"sk-item\"><div class=\"sk-estimator sk-toggleable\"><input class=\"sk-toggleable__control sk-hidden--visually\" id=\"sk-estimator-id-22\" type=\"checkbox\" ><label for=\"sk-estimator-id-22\" class=\"sk-toggleable__label sk-toggleable__label-arrow\">DecisionTreeRegressor</label><div class=\"sk-toggleable__content\"><pre>DecisionTreeRegressor(random_state=101)</pre></div></div></div></div></div></div></div></div></div></div></div></div>"
      ],
      "text/plain": [
       "GridSearchCV(cv=10,\n",
       "             estimator=Pipeline(steps=[('OrdinalEncoder',\n",
       "                                        ColumnTransformer(remainder='passthrough',\n",
       "                                                          transformers=[('ordinalencoder',\n",
       "                                                                         OrdinalEncoder(handle_unknown='use_encoded_value',\n",
       "                                                                                        unknown_value=-1),\n",
       "                                                                         Index(['Fuel_Type', 'Seller_Type', 'Transmission'], dtype='object'))])),\n",
       "                                       ('DT_model',\n",
       "                                        DecisionTreeRegressor(random_state=101))]),\n",
       "             n_jobs=-1,\n",
       "             param_grid={'DT_model__criterion': ['squared_error',\n",
       "                                                 'friedman_mse',\n",
       "                                                 'absolute_error', 'poisson'],\n",
       "                         'DT_model__max_depth': [2, 3],\n",
       "                         'DT_model__max_features': [4, 5, 6, None],\n",
       "                         'DT_model__min_samples_leaf': [1, 2, 3, 4],\n",
       "                         'DT_model__min_samples_split': [2, 3, 4],\n",
       "                         'DT_model__splitter': ['best', 'random']},\n",
       "             return_train_score=True, scoring='neg_root_mean_squared_error')"
      ]
     },
     "execution_count": 49,
     "metadata": {},
     "output_type": "execute_result"
    }
   ],
   "source": [
    "grid_model.fit(X_train,y_train)"
   ]
  },
  {
   "cell_type": "code",
   "execution_count": 50,
   "id": "olive-input",
   "metadata": {
    "id": "olive-input",
    "outputId": "0fcf15fd-1a55-4f4c-9a7e-aaa09f3df311"
   },
   "outputs": [
    {
     "data": {
      "text/html": [
       "<style>#sk-container-id-4 {color: black;background-color: white;}#sk-container-id-4 pre{padding: 0;}#sk-container-id-4 div.sk-toggleable {background-color: white;}#sk-container-id-4 label.sk-toggleable__label {cursor: pointer;display: block;width: 100%;margin-bottom: 0;padding: 0.3em;box-sizing: border-box;text-align: center;}#sk-container-id-4 label.sk-toggleable__label-arrow:before {content: \"▸\";float: left;margin-right: 0.25em;color: #696969;}#sk-container-id-4 label.sk-toggleable__label-arrow:hover:before {color: black;}#sk-container-id-4 div.sk-estimator:hover label.sk-toggleable__label-arrow:before {color: black;}#sk-container-id-4 div.sk-toggleable__content {max-height: 0;max-width: 0;overflow: hidden;text-align: left;background-color: #f0f8ff;}#sk-container-id-4 div.sk-toggleable__content pre {margin: 0.2em;color: black;border-radius: 0.25em;background-color: #f0f8ff;}#sk-container-id-4 input.sk-toggleable__control:checked~div.sk-toggleable__content {max-height: 200px;max-width: 100%;overflow: auto;}#sk-container-id-4 input.sk-toggleable__control:checked~label.sk-toggleable__label-arrow:before {content: \"▾\";}#sk-container-id-4 div.sk-estimator input.sk-toggleable__control:checked~label.sk-toggleable__label {background-color: #d4ebff;}#sk-container-id-4 div.sk-label input.sk-toggleable__control:checked~label.sk-toggleable__label {background-color: #d4ebff;}#sk-container-id-4 input.sk-hidden--visually {border: 0;clip: rect(1px 1px 1px 1px);clip: rect(1px, 1px, 1px, 1px);height: 1px;margin: -1px;overflow: hidden;padding: 0;position: absolute;width: 1px;}#sk-container-id-4 div.sk-estimator {font-family: monospace;background-color: #f0f8ff;border: 1px dotted black;border-radius: 0.25em;box-sizing: border-box;margin-bottom: 0.5em;}#sk-container-id-4 div.sk-estimator:hover {background-color: #d4ebff;}#sk-container-id-4 div.sk-parallel-item::after {content: \"\";width: 100%;border-bottom: 1px solid gray;flex-grow: 1;}#sk-container-id-4 div.sk-label:hover label.sk-toggleable__label {background-color: #d4ebff;}#sk-container-id-4 div.sk-serial::before {content: \"\";position: absolute;border-left: 1px solid gray;box-sizing: border-box;top: 0;bottom: 0;left: 50%;z-index: 0;}#sk-container-id-4 div.sk-serial {display: flex;flex-direction: column;align-items: center;background-color: white;padding-right: 0.2em;padding-left: 0.2em;position: relative;}#sk-container-id-4 div.sk-item {position: relative;z-index: 1;}#sk-container-id-4 div.sk-parallel {display: flex;align-items: stretch;justify-content: center;background-color: white;position: relative;}#sk-container-id-4 div.sk-item::before, #sk-container-id-4 div.sk-parallel-item::before {content: \"\";position: absolute;border-left: 1px solid gray;box-sizing: border-box;top: 0;bottom: 0;left: 50%;z-index: -1;}#sk-container-id-4 div.sk-parallel-item {display: flex;flex-direction: column;z-index: 1;position: relative;background-color: white;}#sk-container-id-4 div.sk-parallel-item:first-child::after {align-self: flex-end;width: 50%;}#sk-container-id-4 div.sk-parallel-item:last-child::after {align-self: flex-start;width: 50%;}#sk-container-id-4 div.sk-parallel-item:only-child::after {width: 0;}#sk-container-id-4 div.sk-dashed-wrapped {border: 1px dashed gray;margin: 0 0.4em 0.5em 0.4em;box-sizing: border-box;padding-bottom: 0.4em;background-color: white;}#sk-container-id-4 div.sk-label label {font-family: monospace;font-weight: bold;display: inline-block;line-height: 1.2em;}#sk-container-id-4 div.sk-label-container {text-align: center;}#sk-container-id-4 div.sk-container {/* jupyter's `normalize.less` sets `[hidden] { display: none; }` but bootstrap.min.css set `[hidden] { display: none !important; }` so we also need the `!important` here to be able to override the default hidden behavior on the sphinx rendered scikit-learn.org. See: https://github.com/scikit-learn/scikit-learn/issues/21755 */display: inline-block !important;position: relative;}#sk-container-id-4 div.sk-text-repr-fallback {display: none;}</style><div id=\"sk-container-id-4\" class=\"sk-top-container\"><div class=\"sk-text-repr-fallback\"><pre>Pipeline(steps=[(&#x27;OrdinalEncoder&#x27;,\n",
       "                 ColumnTransformer(remainder=&#x27;passthrough&#x27;,\n",
       "                                   transformers=[(&#x27;ordinalencoder&#x27;,\n",
       "                                                  OrdinalEncoder(handle_unknown=&#x27;use_encoded_value&#x27;,\n",
       "                                                                 unknown_value=-1),\n",
       "                                                  Index([&#x27;Fuel_Type&#x27;, &#x27;Seller_Type&#x27;, &#x27;Transmission&#x27;], dtype=&#x27;object&#x27;))])),\n",
       "                (&#x27;DT_model&#x27;,\n",
       "                 DecisionTreeRegressor(criterion=&#x27;absolute_error&#x27;, max_depth=3,\n",
       "                                       random_state=101))])</pre><b>In a Jupyter environment, please rerun this cell to show the HTML representation or trust the notebook. <br />On GitHub, the HTML representation is unable to render, please try loading this page with nbviewer.org.</b></div><div class=\"sk-container\" hidden><div class=\"sk-item sk-dashed-wrapped\"><div class=\"sk-label-container\"><div class=\"sk-label sk-toggleable\"><input class=\"sk-toggleable__control sk-hidden--visually\" id=\"sk-estimator-id-23\" type=\"checkbox\" ><label for=\"sk-estimator-id-23\" class=\"sk-toggleable__label sk-toggleable__label-arrow\">Pipeline</label><div class=\"sk-toggleable__content\"><pre>Pipeline(steps=[(&#x27;OrdinalEncoder&#x27;,\n",
       "                 ColumnTransformer(remainder=&#x27;passthrough&#x27;,\n",
       "                                   transformers=[(&#x27;ordinalencoder&#x27;,\n",
       "                                                  OrdinalEncoder(handle_unknown=&#x27;use_encoded_value&#x27;,\n",
       "                                                                 unknown_value=-1),\n",
       "                                                  Index([&#x27;Fuel_Type&#x27;, &#x27;Seller_Type&#x27;, &#x27;Transmission&#x27;], dtype=&#x27;object&#x27;))])),\n",
       "                (&#x27;DT_model&#x27;,\n",
       "                 DecisionTreeRegressor(criterion=&#x27;absolute_error&#x27;, max_depth=3,\n",
       "                                       random_state=101))])</pre></div></div></div><div class=\"sk-serial\"><div class=\"sk-item sk-dashed-wrapped\"><div class=\"sk-label-container\"><div class=\"sk-label sk-toggleable\"><input class=\"sk-toggleable__control sk-hidden--visually\" id=\"sk-estimator-id-24\" type=\"checkbox\" ><label for=\"sk-estimator-id-24\" class=\"sk-toggleable__label sk-toggleable__label-arrow\">OrdinalEncoder: ColumnTransformer</label><div class=\"sk-toggleable__content\"><pre>ColumnTransformer(remainder=&#x27;passthrough&#x27;,\n",
       "                  transformers=[(&#x27;ordinalencoder&#x27;,\n",
       "                                 OrdinalEncoder(handle_unknown=&#x27;use_encoded_value&#x27;,\n",
       "                                                unknown_value=-1),\n",
       "                                 Index([&#x27;Fuel_Type&#x27;, &#x27;Seller_Type&#x27;, &#x27;Transmission&#x27;], dtype=&#x27;object&#x27;))])</pre></div></div></div><div class=\"sk-parallel\"><div class=\"sk-parallel-item\"><div class=\"sk-item\"><div class=\"sk-label-container\"><div class=\"sk-label sk-toggleable\"><input class=\"sk-toggleable__control sk-hidden--visually\" id=\"sk-estimator-id-25\" type=\"checkbox\" ><label for=\"sk-estimator-id-25\" class=\"sk-toggleable__label sk-toggleable__label-arrow\">ordinalencoder</label><div class=\"sk-toggleable__content\"><pre>Index([&#x27;Fuel_Type&#x27;, &#x27;Seller_Type&#x27;, &#x27;Transmission&#x27;], dtype=&#x27;object&#x27;)</pre></div></div></div><div class=\"sk-serial\"><div class=\"sk-item\"><div class=\"sk-estimator sk-toggleable\"><input class=\"sk-toggleable__control sk-hidden--visually\" id=\"sk-estimator-id-26\" type=\"checkbox\" ><label for=\"sk-estimator-id-26\" class=\"sk-toggleable__label sk-toggleable__label-arrow\">OrdinalEncoder</label><div class=\"sk-toggleable__content\"><pre>OrdinalEncoder(handle_unknown=&#x27;use_encoded_value&#x27;, unknown_value=-1)</pre></div></div></div></div></div></div><div class=\"sk-parallel-item\"><div class=\"sk-item\"><div class=\"sk-label-container\"><div class=\"sk-label sk-toggleable\"><input class=\"sk-toggleable__control sk-hidden--visually\" id=\"sk-estimator-id-27\" type=\"checkbox\" ><label for=\"sk-estimator-id-27\" class=\"sk-toggleable__label sk-toggleable__label-arrow\">remainder</label><div class=\"sk-toggleable__content\"><pre>[&#x27;Present_Price&#x27;, &#x27;Kms_Driven&#x27;, &#x27;Owner&#x27;, &#x27;vehicle_age&#x27;]</pre></div></div></div><div class=\"sk-serial\"><div class=\"sk-item\"><div class=\"sk-estimator sk-toggleable\"><input class=\"sk-toggleable__control sk-hidden--visually\" id=\"sk-estimator-id-28\" type=\"checkbox\" ><label for=\"sk-estimator-id-28\" class=\"sk-toggleable__label sk-toggleable__label-arrow\">passthrough</label><div class=\"sk-toggleable__content\"><pre>passthrough</pre></div></div></div></div></div></div></div></div><div class=\"sk-item\"><div class=\"sk-estimator sk-toggleable\"><input class=\"sk-toggleable__control sk-hidden--visually\" id=\"sk-estimator-id-29\" type=\"checkbox\" ><label for=\"sk-estimator-id-29\" class=\"sk-toggleable__label sk-toggleable__label-arrow\">DecisionTreeRegressor</label><div class=\"sk-toggleable__content\"><pre>DecisionTreeRegressor(criterion=&#x27;absolute_error&#x27;, max_depth=3, random_state=101)</pre></div></div></div></div></div></div></div>"
      ],
      "text/plain": [
       "Pipeline(steps=[('OrdinalEncoder',\n",
       "                 ColumnTransformer(remainder='passthrough',\n",
       "                                   transformers=[('ordinalencoder',\n",
       "                                                  OrdinalEncoder(handle_unknown='use_encoded_value',\n",
       "                                                                 unknown_value=-1),\n",
       "                                                  Index(['Fuel_Type', 'Seller_Type', 'Transmission'], dtype='object'))])),\n",
       "                ('DT_model',\n",
       "                 DecisionTreeRegressor(criterion='absolute_error', max_depth=3,\n",
       "                                       random_state=101))])"
      ]
     },
     "execution_count": 50,
     "metadata": {},
     "output_type": "execute_result"
    }
   ],
   "source": [
    "grid_model.best_estimator_"
   ]
  },
  {
   "cell_type": "code",
   "execution_count": 51,
   "id": "loved-observer",
   "metadata": {
    "id": "loved-observer",
    "outputId": "a4b0fec9-866d-449a-eec2-9d4e62f16800"
   },
   "outputs": [
    {
     "data": {
      "text/plain": [
       "mean_test_score    -0.935087\n",
       "mean_train_score   -0.900378\n",
       "Name: 552, dtype: object"
      ]
     },
     "execution_count": 51,
     "metadata": {},
     "output_type": "execute_result"
    }
   ],
   "source": [
    "pd.DataFrame(grid_model.cv_results_).loc[grid_model.best_index_, [\"mean_test_score\", \"mean_train_score\"]]\n",
    "# overfitingin tamamen gidirildiğini gördük."
   ]
  },
  {
   "cell_type": "code",
   "execution_count": 52,
   "id": "promotional-spyware",
   "metadata": {
    "id": "promotional-spyware",
    "outputId": "1dc235df-0ae8-4598-defd-876a66269bc3"
   },
   "outputs": [
    {
     "data": {
      "text/html": [
       "<div>\n",
       "<style scoped>\n",
       "    .dataframe tbody tr th:only-of-type {\n",
       "        vertical-align: middle;\n",
       "    }\n",
       "\n",
       "    .dataframe tbody tr th {\n",
       "        vertical-align: top;\n",
       "    }\n",
       "\n",
       "    .dataframe thead th {\n",
       "        text-align: right;\n",
       "    }\n",
       "</style>\n",
       "<table border=\"1\" class=\"dataframe\">\n",
       "  <thead>\n",
       "    <tr style=\"text-align: right;\">\n",
       "      <th></th>\n",
       "      <th>train</th>\n",
       "      <th>test</th>\n",
       "    </tr>\n",
       "  </thead>\n",
       "  <tbody>\n",
       "    <tr>\n",
       "      <th>R2</th>\n",
       "      <td>0.879311</td>\n",
       "      <td>0.891632</td>\n",
       "    </tr>\n",
       "    <tr>\n",
       "      <th>mae</th>\n",
       "      <td>0.588211</td>\n",
       "      <td>0.593455</td>\n",
       "    </tr>\n",
       "    <tr>\n",
       "      <th>mse</th>\n",
       "      <td>0.870834</td>\n",
       "      <td>0.740371</td>\n",
       "    </tr>\n",
       "    <tr>\n",
       "      <th>rmse</th>\n",
       "      <td>0.933185</td>\n",
       "      <td>0.860448</td>\n",
       "    </tr>\n",
       "  </tbody>\n",
       "</table>\n",
       "</div>"
      ],
      "text/plain": [
       "         train      test\n",
       "R2    0.879311  0.891632\n",
       "mae   0.588211  0.593455\n",
       "mse   0.870834  0.740371\n",
       "rmse  0.933185  0.860448"
      ]
     },
     "execution_count": 52,
     "metadata": {},
     "output_type": "execute_result"
    }
   ],
   "source": [
    "train_val(grid_model, X_train, y_train, X_test, y_test)\n",
    "\n",
    "# test datası skorları ile CV'dan aldığımız validation seti skorlarının tutarlı olduğunu gördük."
   ]
  },
  {
   "cell_type": "raw",
   "id": "b0976934",
   "metadata": {
    "id": "b0976934"
   },
   "source": [
    "          train\ttest\n",
    "R2\t   1.000\t0.945\n",
    "mae\t   0.000\t0.410\n",
    "mse\t   0.000\t0.377\n",
    "rmse      0.000\t0.614"
   ]
  },
  {
   "cell_type": "code",
   "execution_count": 53,
   "id": "e2da631c",
   "metadata": {
    "id": "e2da631c",
    "outputId": "37f857a3-a494-4826-ceb3-cbb195b562b4"
   },
   "outputs": [
    {
     "data": {
      "text/plain": [
       "3.4022710622710615"
      ]
     },
     "execution_count": 53,
     "metadata": {},
     "output_type": "execute_result"
    }
   ],
   "source": [
    "y.mean()"
   ]
  },
  {
   "cell_type": "code",
   "execution_count": 54,
   "id": "44e85046",
   "metadata": {
    "id": "44e85046",
    "outputId": "2f4fbf43-ab1e-4776-91fb-cc3fb49555dd"
   },
   "outputs": [
    {
     "data": {
      "text/plain": [
       "0.2529411764705882"
      ]
     },
     "execution_count": 54,
     "metadata": {},
     "output_type": "execute_result"
    }
   ],
   "source": [
    "0.86/3.4\n",
    "\n",
    "# test datası rmse göre model ortalama %25 hata yapıyor."
   ]
  },
  {
   "cell_type": "code",
   "execution_count": 55,
   "id": "cf7393da",
   "metadata": {
    "id": "cf7393da",
    "outputId": "57ebab87-2f80-408d-bdc1-35d4a779264e"
   },
   "outputs": [
    {
     "data": {
      "text/plain": [
       "0.275"
      ]
     },
     "execution_count": 55,
     "metadata": {},
     "output_type": "execute_result"
    }
   ],
   "source": [
    "0.935/3.4\n",
    "\n",
    "# CV valiadation setinin ortalama skorlarına göre ortalama %27 hata yapıyor."
   ]
  },
  {
   "cell_type": "code",
   "execution_count": 56,
   "id": "bizarre-symposium",
   "metadata": {
    "id": "bizarre-symposium",
    "outputId": "aee738b6-228d-485d-e1c2-d419d485cb7b"
   },
   "outputs": [
    {
     "data": {
      "text/html": [
       "<div>\n",
       "<style scoped>\n",
       "    .dataframe tbody tr th:only-of-type {\n",
       "        vertical-align: middle;\n",
       "    }\n",
       "\n",
       "    .dataframe tbody tr th {\n",
       "        vertical-align: top;\n",
       "    }\n",
       "\n",
       "    .dataframe thead th {\n",
       "        text-align: right;\n",
       "    }\n",
       "</style>\n",
       "<table border=\"1\" class=\"dataframe\">\n",
       "  <thead>\n",
       "    <tr style=\"text-align: right;\">\n",
       "      <th></th>\n",
       "      <th>test_r2</th>\n",
       "      <th>train_r2</th>\n",
       "      <th>test_neg_mean_absolute_error</th>\n",
       "      <th>train_neg_mean_absolute_error</th>\n",
       "      <th>test_neg_mean_squared_error</th>\n",
       "      <th>train_neg_mean_squared_error</th>\n",
       "      <th>test_neg_root_mean_squared_error</th>\n",
       "      <th>train_neg_root_mean_squared_error</th>\n",
       "    </tr>\n",
       "  </thead>\n",
       "  <tbody>\n",
       "    <tr>\n",
       "      <th>1</th>\n",
       "      <td>0.911631</td>\n",
       "      <td>0.886557</td>\n",
       "      <td>-0.545000</td>\n",
       "      <td>-0.571071</td>\n",
       "      <td>-0.486459</td>\n",
       "      <td>-0.840099</td>\n",
       "      <td>-0.697466</td>\n",
       "      <td>-0.916569</td>\n",
       "    </tr>\n",
       "    <tr>\n",
       "      <th>2</th>\n",
       "      <td>0.906127</td>\n",
       "      <td>0.891609</td>\n",
       "      <td>-0.499773</td>\n",
       "      <td>-0.555459</td>\n",
       "      <td>-0.544994</td>\n",
       "      <td>-0.797669</td>\n",
       "      <td>-0.738237</td>\n",
       "      <td>-0.893123</td>\n",
       "    </tr>\n",
       "    <tr>\n",
       "      <th>3</th>\n",
       "      <td>0.711614</td>\n",
       "      <td>0.901378</td>\n",
       "      <td>-0.997955</td>\n",
       "      <td>-0.524337</td>\n",
       "      <td>-1.550633</td>\n",
       "      <td>-0.729916</td>\n",
       "      <td>-1.245244</td>\n",
       "      <td>-0.854351</td>\n",
       "    </tr>\n",
       "    <tr>\n",
       "      <th>4</th>\n",
       "      <td>0.958482</td>\n",
       "      <td>0.881956</td>\n",
       "      <td>-0.369545</td>\n",
       "      <td>-0.565612</td>\n",
       "      <td>-0.307086</td>\n",
       "      <td>-0.849227</td>\n",
       "      <td>-0.554154</td>\n",
       "      <td>-0.921535</td>\n",
       "    </tr>\n",
       "    <tr>\n",
       "      <th>5</th>\n",
       "      <td>0.925885</td>\n",
       "      <td>0.887050</td>\n",
       "      <td>-0.545909</td>\n",
       "      <td>-0.548367</td>\n",
       "      <td>-0.518507</td>\n",
       "      <td>-0.817766</td>\n",
       "      <td>-0.720074</td>\n",
       "      <td>-0.904304</td>\n",
       "    </tr>\n",
       "    <tr>\n",
       "      <th>6</th>\n",
       "      <td>0.877081</td>\n",
       "      <td>0.892273</td>\n",
       "      <td>-0.779545</td>\n",
       "      <td>-0.523724</td>\n",
       "      <td>-1.101368</td>\n",
       "      <td>-0.756213</td>\n",
       "      <td>-1.049461</td>\n",
       "      <td>-0.869605</td>\n",
       "    </tr>\n",
       "    <tr>\n",
       "      <th>7</th>\n",
       "      <td>0.905806</td>\n",
       "      <td>0.875377</td>\n",
       "      <td>-0.561591</td>\n",
       "      <td>-0.595357</td>\n",
       "      <td>-0.630410</td>\n",
       "      <td>-0.905947</td>\n",
       "      <td>-0.793984</td>\n",
       "      <td>-0.951813</td>\n",
       "    </tr>\n",
       "    <tr>\n",
       "      <th>8</th>\n",
       "      <td>0.838110</td>\n",
       "      <td>0.883364</td>\n",
       "      <td>-0.702045</td>\n",
       "      <td>-0.582296</td>\n",
       "      <td>-1.121322</td>\n",
       "      <td>-0.843706</td>\n",
       "      <td>-1.058925</td>\n",
       "      <td>-0.918535</td>\n",
       "    </tr>\n",
       "    <tr>\n",
       "      <th>9</th>\n",
       "      <td>0.856118</td>\n",
       "      <td>0.888484</td>\n",
       "      <td>-0.673333</td>\n",
       "      <td>-0.562284</td>\n",
       "      <td>-1.512617</td>\n",
       "      <td>-0.765171</td>\n",
       "      <td>-1.229885</td>\n",
       "      <td>-0.874740</td>\n",
       "    </tr>\n",
       "    <tr>\n",
       "      <th>10</th>\n",
       "      <td>0.788449</td>\n",
       "      <td>0.887161</td>\n",
       "      <td>-0.719524</td>\n",
       "      <td>-0.582234</td>\n",
       "      <td>-1.596290</td>\n",
       "      <td>-0.808567</td>\n",
       "      <td>-1.263444</td>\n",
       "      <td>-0.899204</td>\n",
       "    </tr>\n",
       "  </tbody>\n",
       "</table>\n",
       "</div>"
      ],
      "text/plain": [
       "     test_r2  train_r2  test_neg_mean_absolute_error  \\\n",
       "1   0.911631  0.886557                     -0.545000   \n",
       "2   0.906127  0.891609                     -0.499773   \n",
       "3   0.711614  0.901378                     -0.997955   \n",
       "4   0.958482  0.881956                     -0.369545   \n",
       "5   0.925885  0.887050                     -0.545909   \n",
       "6   0.877081  0.892273                     -0.779545   \n",
       "7   0.905806  0.875377                     -0.561591   \n",
       "8   0.838110  0.883364                     -0.702045   \n",
       "9   0.856118  0.888484                     -0.673333   \n",
       "10  0.788449  0.887161                     -0.719524   \n",
       "\n",
       "    train_neg_mean_absolute_error  test_neg_mean_squared_error  \\\n",
       "1                       -0.571071                    -0.486459   \n",
       "2                       -0.555459                    -0.544994   \n",
       "3                       -0.524337                    -1.550633   \n",
       "4                       -0.565612                    -0.307086   \n",
       "5                       -0.548367                    -0.518507   \n",
       "6                       -0.523724                    -1.101368   \n",
       "7                       -0.595357                    -0.630410   \n",
       "8                       -0.582296                    -1.121322   \n",
       "9                       -0.562284                    -1.512617   \n",
       "10                      -0.582234                    -1.596290   \n",
       "\n",
       "    train_neg_mean_squared_error  test_neg_root_mean_squared_error  \\\n",
       "1                      -0.840099                         -0.697466   \n",
       "2                      -0.797669                         -0.738237   \n",
       "3                      -0.729916                         -1.245244   \n",
       "4                      -0.849227                         -0.554154   \n",
       "5                      -0.817766                         -0.720074   \n",
       "6                      -0.756213                         -1.049461   \n",
       "7                      -0.905947                         -0.793984   \n",
       "8                      -0.843706                         -1.058925   \n",
       "9                      -0.765171                         -1.229885   \n",
       "10                     -0.808567                         -1.263444   \n",
       "\n",
       "    train_neg_root_mean_squared_error  \n",
       "1                           -0.916569  \n",
       "2                           -0.893123  \n",
       "3                           -0.854351  \n",
       "4                           -0.921535  \n",
       "5                           -0.904304  \n",
       "6                           -0.869605  \n",
       "7                           -0.951813  \n",
       "8                           -0.918535  \n",
       "9                           -0.874740  \n",
       "10                          -0.899204  "
      ]
     },
     "execution_count": 56,
     "metadata": {},
     "output_type": "execute_result"
    }
   ],
   "source": [
    "from sklearn.model_selection import cross_validate, cross_val_score\n",
    "\n",
    "operations = [(\"OrdinalEncoder\", column_trans), \n",
    "              (\"DT_model\", DecisionTreeRegressor(max_depth=3,\n",
    "                                                 criterion='absolute_error',\n",
    "                                                 random_state=101))]\n",
    "\n",
    "model = Pipeline(steps=operations)\n",
    "\n",
    "\n",
    "scores = cross_validate(model, \n",
    "                        X_train, \n",
    "                        y_train, \n",
    "                        scoring=['r2',\n",
    "                                 'neg_mean_absolute_error',\n",
    "                                 'neg_mean_squared_error',\n",
    "                                 'neg_root_mean_squared_error'],\n",
    "                        cv = 10,\n",
    "                        return_train_score=True)\n",
    "df_scores = pd.DataFrame(scores, index=range(1,11))\n",
    "df_scores.iloc[:,2:]\n",
    "\n",
    "# tüm metricleri görmek içinde CV yapabiliriz.\n",
    "# CVdaki tüm iterasyonlara baktığımızda bazı skorların çok farklı olduğunu görebiliyoruz. Çok küçük datalarda beklenen\n",
    "# bir durumdur."
   ]
  },
  {
   "cell_type": "code",
   "execution_count": 57,
   "id": "5de7a083",
   "metadata": {
    "id": "5de7a083",
    "outputId": "fa5fe032-2cc4-427b-abcd-aa5a13879be0",
    "scrolled": true
   },
   "outputs": [
    {
     "data": {
      "text/plain": [
       "test_r2                              0.867930\n",
       "train_r2                             0.887521\n",
       "test_neg_mean_absolute_error        -0.639422\n",
       "train_neg_mean_absolute_error       -0.561074\n",
       "test_neg_mean_squared_error         -0.936969\n",
       "train_neg_mean_squared_error        -0.811428\n",
       "test_neg_root_mean_squared_error    -0.935087\n",
       "train_neg_root_mean_squared_error   -0.900378\n",
       "dtype: float64"
      ]
     },
     "execution_count": 57,
     "metadata": {},
     "output_type": "execute_result"
    }
   ],
   "source": [
    "df_scores.mean()[2:]\n",
    "\n",
    "# ortalamalarına göre "
   ]
  },
  {
   "cell_type": "code",
   "execution_count": 58,
   "id": "maritime-circumstances",
   "metadata": {
    "id": "maritime-circumstances",
    "outputId": "59073b7d-6917-4ebe-c9b4-4418cfa89f25"
   },
   "outputs": [
    {
     "data": {
      "text/html": [
       "<div>\n",
       "<style scoped>\n",
       "    .dataframe tbody tr th:only-of-type {\n",
       "        vertical-align: middle;\n",
       "    }\n",
       "\n",
       "    .dataframe tbody tr th {\n",
       "        vertical-align: top;\n",
       "    }\n",
       "\n",
       "    .dataframe thead th {\n",
       "        text-align: right;\n",
       "    }\n",
       "</style>\n",
       "<table border=\"1\" class=\"dataframe\">\n",
       "  <thead>\n",
       "    <tr style=\"text-align: right;\">\n",
       "      <th></th>\n",
       "      <th>train</th>\n",
       "      <th>test</th>\n",
       "    </tr>\n",
       "  </thead>\n",
       "  <tbody>\n",
       "    <tr>\n",
       "      <th>R2</th>\n",
       "      <td>0.879311</td>\n",
       "      <td>0.891632</td>\n",
       "    </tr>\n",
       "    <tr>\n",
       "      <th>mae</th>\n",
       "      <td>0.588211</td>\n",
       "      <td>0.593455</td>\n",
       "    </tr>\n",
       "    <tr>\n",
       "      <th>mse</th>\n",
       "      <td>0.870834</td>\n",
       "      <td>0.740371</td>\n",
       "    </tr>\n",
       "    <tr>\n",
       "      <th>rmse</th>\n",
       "      <td>0.933185</td>\n",
       "      <td>0.860448</td>\n",
       "    </tr>\n",
       "  </tbody>\n",
       "</table>\n",
       "</div>"
      ],
      "text/plain": [
       "         train      test\n",
       "R2    0.879311  0.891632\n",
       "mae   0.588211  0.593455\n",
       "mse   0.870834  0.740371\n",
       "rmse  0.933185  0.860448"
      ]
     },
     "execution_count": 58,
     "metadata": {},
     "output_type": "execute_result"
    }
   ],
   "source": [
    "train_val(grid_model, X_train, y_train, X_test, y_test)"
   ]
  },
  {
   "cell_type": "markdown",
   "id": "20aee5ae",
   "metadata": {
    "id": "20aee5ae"
   },
   "source": [
    "## Feature İmportance"
   ]
  },
  {
   "cell_type": "code",
   "execution_count": 59,
   "id": "41d59894",
   "metadata": {
    "id": "41d59894",
    "outputId": "98c45374-457e-4a8f-8974-9162c6a56d81"
   },
   "outputs": [
    {
     "data": {
      "text/html": [
       "<style>#sk-container-id-5 {color: black;background-color: white;}#sk-container-id-5 pre{padding: 0;}#sk-container-id-5 div.sk-toggleable {background-color: white;}#sk-container-id-5 label.sk-toggleable__label {cursor: pointer;display: block;width: 100%;margin-bottom: 0;padding: 0.3em;box-sizing: border-box;text-align: center;}#sk-container-id-5 label.sk-toggleable__label-arrow:before {content: \"▸\";float: left;margin-right: 0.25em;color: #696969;}#sk-container-id-5 label.sk-toggleable__label-arrow:hover:before {color: black;}#sk-container-id-5 div.sk-estimator:hover label.sk-toggleable__label-arrow:before {color: black;}#sk-container-id-5 div.sk-toggleable__content {max-height: 0;max-width: 0;overflow: hidden;text-align: left;background-color: #f0f8ff;}#sk-container-id-5 div.sk-toggleable__content pre {margin: 0.2em;color: black;border-radius: 0.25em;background-color: #f0f8ff;}#sk-container-id-5 input.sk-toggleable__control:checked~div.sk-toggleable__content {max-height: 200px;max-width: 100%;overflow: auto;}#sk-container-id-5 input.sk-toggleable__control:checked~label.sk-toggleable__label-arrow:before {content: \"▾\";}#sk-container-id-5 div.sk-estimator input.sk-toggleable__control:checked~label.sk-toggleable__label {background-color: #d4ebff;}#sk-container-id-5 div.sk-label input.sk-toggleable__control:checked~label.sk-toggleable__label {background-color: #d4ebff;}#sk-container-id-5 input.sk-hidden--visually {border: 0;clip: rect(1px 1px 1px 1px);clip: rect(1px, 1px, 1px, 1px);height: 1px;margin: -1px;overflow: hidden;padding: 0;position: absolute;width: 1px;}#sk-container-id-5 div.sk-estimator {font-family: monospace;background-color: #f0f8ff;border: 1px dotted black;border-radius: 0.25em;box-sizing: border-box;margin-bottom: 0.5em;}#sk-container-id-5 div.sk-estimator:hover {background-color: #d4ebff;}#sk-container-id-5 div.sk-parallel-item::after {content: \"\";width: 100%;border-bottom: 1px solid gray;flex-grow: 1;}#sk-container-id-5 div.sk-label:hover label.sk-toggleable__label {background-color: #d4ebff;}#sk-container-id-5 div.sk-serial::before {content: \"\";position: absolute;border-left: 1px solid gray;box-sizing: border-box;top: 0;bottom: 0;left: 50%;z-index: 0;}#sk-container-id-5 div.sk-serial {display: flex;flex-direction: column;align-items: center;background-color: white;padding-right: 0.2em;padding-left: 0.2em;position: relative;}#sk-container-id-5 div.sk-item {position: relative;z-index: 1;}#sk-container-id-5 div.sk-parallel {display: flex;align-items: stretch;justify-content: center;background-color: white;position: relative;}#sk-container-id-5 div.sk-item::before, #sk-container-id-5 div.sk-parallel-item::before {content: \"\";position: absolute;border-left: 1px solid gray;box-sizing: border-box;top: 0;bottom: 0;left: 50%;z-index: -1;}#sk-container-id-5 div.sk-parallel-item {display: flex;flex-direction: column;z-index: 1;position: relative;background-color: white;}#sk-container-id-5 div.sk-parallel-item:first-child::after {align-self: flex-end;width: 50%;}#sk-container-id-5 div.sk-parallel-item:last-child::after {align-self: flex-start;width: 50%;}#sk-container-id-5 div.sk-parallel-item:only-child::after {width: 0;}#sk-container-id-5 div.sk-dashed-wrapped {border: 1px dashed gray;margin: 0 0.4em 0.5em 0.4em;box-sizing: border-box;padding-bottom: 0.4em;background-color: white;}#sk-container-id-5 div.sk-label label {font-family: monospace;font-weight: bold;display: inline-block;line-height: 1.2em;}#sk-container-id-5 div.sk-label-container {text-align: center;}#sk-container-id-5 div.sk-container {/* jupyter's `normalize.less` sets `[hidden] { display: none; }` but bootstrap.min.css set `[hidden] { display: none !important; }` so we also need the `!important` here to be able to override the default hidden behavior on the sphinx rendered scikit-learn.org. See: https://github.com/scikit-learn/scikit-learn/issues/21755 */display: inline-block !important;position: relative;}#sk-container-id-5 div.sk-text-repr-fallback {display: none;}</style><div id=\"sk-container-id-5\" class=\"sk-top-container\"><div class=\"sk-text-repr-fallback\"><pre>Pipeline(steps=[(&#x27;OrdinalEncoder&#x27;,\n",
       "                 ColumnTransformer(remainder=&#x27;passthrough&#x27;,\n",
       "                                   transformers=[(&#x27;ordinalencoder&#x27;,\n",
       "                                                  OrdinalEncoder(handle_unknown=&#x27;use_encoded_value&#x27;,\n",
       "                                                                 unknown_value=-1),\n",
       "                                                  Index([&#x27;Fuel_Type&#x27;, &#x27;Seller_Type&#x27;, &#x27;Transmission&#x27;], dtype=&#x27;object&#x27;))])),\n",
       "                (&#x27;DT_model&#x27;,\n",
       "                 DecisionTreeRegressor(criterion=&#x27;absolute_error&#x27;, max_depth=3,\n",
       "                                       random_state=101))])</pre><b>In a Jupyter environment, please rerun this cell to show the HTML representation or trust the notebook. <br />On GitHub, the HTML representation is unable to render, please try loading this page with nbviewer.org.</b></div><div class=\"sk-container\" hidden><div class=\"sk-item sk-dashed-wrapped\"><div class=\"sk-label-container\"><div class=\"sk-label sk-toggleable\"><input class=\"sk-toggleable__control sk-hidden--visually\" id=\"sk-estimator-id-30\" type=\"checkbox\" ><label for=\"sk-estimator-id-30\" class=\"sk-toggleable__label sk-toggleable__label-arrow\">Pipeline</label><div class=\"sk-toggleable__content\"><pre>Pipeline(steps=[(&#x27;OrdinalEncoder&#x27;,\n",
       "                 ColumnTransformer(remainder=&#x27;passthrough&#x27;,\n",
       "                                   transformers=[(&#x27;ordinalencoder&#x27;,\n",
       "                                                  OrdinalEncoder(handle_unknown=&#x27;use_encoded_value&#x27;,\n",
       "                                                                 unknown_value=-1),\n",
       "                                                  Index([&#x27;Fuel_Type&#x27;, &#x27;Seller_Type&#x27;, &#x27;Transmission&#x27;], dtype=&#x27;object&#x27;))])),\n",
       "                (&#x27;DT_model&#x27;,\n",
       "                 DecisionTreeRegressor(criterion=&#x27;absolute_error&#x27;, max_depth=3,\n",
       "                                       random_state=101))])</pre></div></div></div><div class=\"sk-serial\"><div class=\"sk-item sk-dashed-wrapped\"><div class=\"sk-label-container\"><div class=\"sk-label sk-toggleable\"><input class=\"sk-toggleable__control sk-hidden--visually\" id=\"sk-estimator-id-31\" type=\"checkbox\" ><label for=\"sk-estimator-id-31\" class=\"sk-toggleable__label sk-toggleable__label-arrow\">OrdinalEncoder: ColumnTransformer</label><div class=\"sk-toggleable__content\"><pre>ColumnTransformer(remainder=&#x27;passthrough&#x27;,\n",
       "                  transformers=[(&#x27;ordinalencoder&#x27;,\n",
       "                                 OrdinalEncoder(handle_unknown=&#x27;use_encoded_value&#x27;,\n",
       "                                                unknown_value=-1),\n",
       "                                 Index([&#x27;Fuel_Type&#x27;, &#x27;Seller_Type&#x27;, &#x27;Transmission&#x27;], dtype=&#x27;object&#x27;))])</pre></div></div></div><div class=\"sk-parallel\"><div class=\"sk-parallel-item\"><div class=\"sk-item\"><div class=\"sk-label-container\"><div class=\"sk-label sk-toggleable\"><input class=\"sk-toggleable__control sk-hidden--visually\" id=\"sk-estimator-id-32\" type=\"checkbox\" ><label for=\"sk-estimator-id-32\" class=\"sk-toggleable__label sk-toggleable__label-arrow\">ordinalencoder</label><div class=\"sk-toggleable__content\"><pre>Index([&#x27;Fuel_Type&#x27;, &#x27;Seller_Type&#x27;, &#x27;Transmission&#x27;], dtype=&#x27;object&#x27;)</pre></div></div></div><div class=\"sk-serial\"><div class=\"sk-item\"><div class=\"sk-estimator sk-toggleable\"><input class=\"sk-toggleable__control sk-hidden--visually\" id=\"sk-estimator-id-33\" type=\"checkbox\" ><label for=\"sk-estimator-id-33\" class=\"sk-toggleable__label sk-toggleable__label-arrow\">OrdinalEncoder</label><div class=\"sk-toggleable__content\"><pre>OrdinalEncoder(handle_unknown=&#x27;use_encoded_value&#x27;, unknown_value=-1)</pre></div></div></div></div></div></div><div class=\"sk-parallel-item\"><div class=\"sk-item\"><div class=\"sk-label-container\"><div class=\"sk-label sk-toggleable\"><input class=\"sk-toggleable__control sk-hidden--visually\" id=\"sk-estimator-id-34\" type=\"checkbox\" ><label for=\"sk-estimator-id-34\" class=\"sk-toggleable__label sk-toggleable__label-arrow\">remainder</label><div class=\"sk-toggleable__content\"><pre>[&#x27;Present_Price&#x27;, &#x27;Kms_Driven&#x27;, &#x27;Owner&#x27;, &#x27;vehicle_age&#x27;]</pre></div></div></div><div class=\"sk-serial\"><div class=\"sk-item\"><div class=\"sk-estimator sk-toggleable\"><input class=\"sk-toggleable__control sk-hidden--visually\" id=\"sk-estimator-id-35\" type=\"checkbox\" ><label for=\"sk-estimator-id-35\" class=\"sk-toggleable__label sk-toggleable__label-arrow\">passthrough</label><div class=\"sk-toggleable__content\"><pre>passthrough</pre></div></div></div></div></div></div></div></div><div class=\"sk-item\"><div class=\"sk-estimator sk-toggleable\"><input class=\"sk-toggleable__control sk-hidden--visually\" id=\"sk-estimator-id-36\" type=\"checkbox\" ><label for=\"sk-estimator-id-36\" class=\"sk-toggleable__label sk-toggleable__label-arrow\">DecisionTreeRegressor</label><div class=\"sk-toggleable__content\"><pre>DecisionTreeRegressor(criterion=&#x27;absolute_error&#x27;, max_depth=3, random_state=101)</pre></div></div></div></div></div></div></div>"
      ],
      "text/plain": [
       "Pipeline(steps=[('OrdinalEncoder',\n",
       "                 ColumnTransformer(remainder='passthrough',\n",
       "                                   transformers=[('ordinalencoder',\n",
       "                                                  OrdinalEncoder(handle_unknown='use_encoded_value',\n",
       "                                                                 unknown_value=-1),\n",
       "                                                  Index(['Fuel_Type', 'Seller_Type', 'Transmission'], dtype='object'))])),\n",
       "                ('DT_model',\n",
       "                 DecisionTreeRegressor(criterion='absolute_error', max_depth=3,\n",
       "                                       random_state=101))])"
      ]
     },
     "execution_count": 59,
     "metadata": {},
     "output_type": "execute_result"
    }
   ],
   "source": [
    "operations = [(\"OrdinalEncoder\", column_trans), \n",
    "              (\"DT_model\", DecisionTreeRegressor(max_depth=3, \n",
    "                                                 criterion='absolute_error',\n",
    "                                                 random_state=101))]\n",
    "pipe_model = Pipeline(steps=operations)\n",
    "pipe_model.fit(X_train, y_train)\n",
    "\n",
    "# feature importance için gridsearch sonrası bulduğumuz en iyi hyper parametreleri kullanmamız gerektiğini unutmuyoruz."
   ]
  },
  {
   "cell_type": "code",
   "execution_count": 60,
   "id": "20cff7df",
   "metadata": {
    "id": "20cff7df",
    "outputId": "41c69536-1b89-413f-fd61-c774368dcbfe"
   },
   "outputs": [
    {
     "data": {
      "text/html": [
       "<div>\n",
       "<style scoped>\n",
       "    .dataframe tbody tr th:only-of-type {\n",
       "        vertical-align: middle;\n",
       "    }\n",
       "\n",
       "    .dataframe tbody tr th {\n",
       "        vertical-align: top;\n",
       "    }\n",
       "\n",
       "    .dataframe thead th {\n",
       "        text-align: right;\n",
       "    }\n",
       "</style>\n",
       "<table border=\"1\" class=\"dataframe\">\n",
       "  <thead>\n",
       "    <tr style=\"text-align: right;\">\n",
       "      <th></th>\n",
       "      <th>Present_Price</th>\n",
       "      <th>Kms_Driven</th>\n",
       "      <th>Fuel_Type</th>\n",
       "      <th>Seller_Type</th>\n",
       "      <th>Transmission</th>\n",
       "      <th>Owner</th>\n",
       "      <th>vehicle_age</th>\n",
       "    </tr>\n",
       "  </thead>\n",
       "  <tbody>\n",
       "    <tr>\n",
       "      <th>269</th>\n",
       "      <td>10.0</td>\n",
       "      <td>18828</td>\n",
       "      <td>Petrol</td>\n",
       "      <td>Dealer</td>\n",
       "      <td>Manual</td>\n",
       "      <td>0</td>\n",
       "      <td>7</td>\n",
       "    </tr>\n",
       "  </tbody>\n",
       "</table>\n",
       "</div>"
      ],
      "text/plain": [
       "     Present_Price  Kms_Driven Fuel_Type Seller_Type Transmission  Owner  \\\n",
       "269           10.0       18828    Petrol      Dealer       Manual      0   \n",
       "\n",
       "     vehicle_age  \n",
       "269            7  "
      ]
     },
     "execution_count": 60,
     "metadata": {},
     "output_type": "execute_result"
    }
   ],
   "source": [
    "X_train.head(1)\n",
    "\n",
    "# pipeline içerisinde make_colum_transform kullanıldığından burdaki feture isimlerini kullanmıyoruz."
   ]
  },
  {
   "cell_type": "code",
   "execution_count": 61,
   "id": "30f80dd1",
   "metadata": {
    "id": "30f80dd1",
    "outputId": "74b32b89-5176-4f39-a531-54e54901d8ad"
   },
   "outputs": [
    {
     "data": {
      "text/plain": [
       "['Fuel_Type',\n",
       " 'Seller_Type',\n",
       " 'Transmission',\n",
       " 'Present_Price',\n",
       " 'Kms_Driven',\n",
       " 'Owner',\n",
       " 'vehicle_age']"
      ]
     },
     "execution_count": 61,
     "metadata": {},
     "output_type": "execute_result"
    }
   ],
   "source": [
    "new_features"
   ]
  },
  {
   "cell_type": "code",
   "execution_count": 62,
   "id": "27511456",
   "metadata": {
    "id": "27511456",
    "outputId": "a6196de1-d7c0-4c53-f4ae-1c55f0e696b7"
   },
   "outputs": [
    {
     "data": {
      "text/html": [
       "<div>\n",
       "<style scoped>\n",
       "    .dataframe tbody tr th:only-of-type {\n",
       "        vertical-align: middle;\n",
       "    }\n",
       "\n",
       "    .dataframe tbody tr th {\n",
       "        vertical-align: top;\n",
       "    }\n",
       "\n",
       "    .dataframe thead th {\n",
       "        text-align: right;\n",
       "    }\n",
       "</style>\n",
       "<table border=\"1\" class=\"dataframe\">\n",
       "  <thead>\n",
       "    <tr style=\"text-align: right;\">\n",
       "      <th></th>\n",
       "      <th>Fuel_Type</th>\n",
       "      <th>Seller_Type</th>\n",
       "      <th>Transmission</th>\n",
       "      <th>Present_Price</th>\n",
       "      <th>Kms_Driven</th>\n",
       "      <th>Owner</th>\n",
       "      <th>vehicle_age</th>\n",
       "    </tr>\n",
       "  </thead>\n",
       "  <tbody>\n",
       "    <tr>\n",
       "      <th>0</th>\n",
       "      <td>2.0</td>\n",
       "      <td>0.0</td>\n",
       "      <td>1.0</td>\n",
       "      <td>10.00</td>\n",
       "      <td>18828.0</td>\n",
       "      <td>0.0</td>\n",
       "      <td>7.0</td>\n",
       "    </tr>\n",
       "    <tr>\n",
       "      <th>1</th>\n",
       "      <td>2.0</td>\n",
       "      <td>1.0</td>\n",
       "      <td>1.0</td>\n",
       "      <td>1.05</td>\n",
       "      <td>213000.0</td>\n",
       "      <td>0.0</td>\n",
       "      <td>12.0</td>\n",
       "    </tr>\n",
       "    <tr>\n",
       "      <th>2</th>\n",
       "      <td>2.0</td>\n",
       "      <td>0.0</td>\n",
       "      <td>1.0</td>\n",
       "      <td>5.97</td>\n",
       "      <td>5600.0</td>\n",
       "      <td>0.0</td>\n",
       "      <td>6.0</td>\n",
       "    </tr>\n",
       "    <tr>\n",
       "      <th>3</th>\n",
       "      <td>2.0</td>\n",
       "      <td>0.0</td>\n",
       "      <td>1.0</td>\n",
       "      <td>9.40</td>\n",
       "      <td>60241.0</td>\n",
       "      <td>0.0</td>\n",
       "      <td>9.0</td>\n",
       "    </tr>\n",
       "    <tr>\n",
       "      <th>4</th>\n",
       "      <td>2.0</td>\n",
       "      <td>0.0</td>\n",
       "      <td>1.0</td>\n",
       "      <td>4.43</td>\n",
       "      <td>28282.0</td>\n",
       "      <td>0.0</td>\n",
       "      <td>7.0</td>\n",
       "    </tr>\n",
       "  </tbody>\n",
       "</table>\n",
       "</div>"
      ],
      "text/plain": [
       "   Fuel_Type  Seller_Type  Transmission  Present_Price  Kms_Driven  Owner  \\\n",
       "0        2.0          0.0           1.0          10.00     18828.0    0.0   \n",
       "1        2.0          1.0           1.0           1.05    213000.0    0.0   \n",
       "2        2.0          0.0           1.0           5.97      5600.0    0.0   \n",
       "3        2.0          0.0           1.0           9.40     60241.0    0.0   \n",
       "4        2.0          0.0           1.0           4.43     28282.0    0.0   \n",
       "\n",
       "   vehicle_age  \n",
       "0          7.0  \n",
       "1         12.0  \n",
       "2          6.0  \n",
       "3          9.0  \n",
       "4          7.0  "
      ]
     },
     "execution_count": 62,
     "metadata": {},
     "output_type": "execute_result"
    }
   ],
   "source": [
    "pd.DataFrame(pipe_model[\"OrdinalEncoder\"].fit_transform(X_train), columns=new_features).head()\n",
    "\n",
    "# make_colum_transform sonrası yeni df'in feature isimlerini sırasıyla gösteren new_features listesini kullanıyoruz. "
   ]
  },
  {
   "cell_type": "code",
   "execution_count": 63,
   "id": "ee72e979",
   "metadata": {
    "id": "ee72e979",
    "outputId": "0a5ed45f-a5cd-4f0f-f7d5-27826cb5709a"
   },
   "outputs": [
    {
     "data": {
      "text/html": [
       "<div>\n",
       "<style scoped>\n",
       "    .dataframe tbody tr th:only-of-type {\n",
       "        vertical-align: middle;\n",
       "    }\n",
       "\n",
       "    .dataframe tbody tr th {\n",
       "        vertical-align: top;\n",
       "    }\n",
       "\n",
       "    .dataframe thead th {\n",
       "        text-align: right;\n",
       "    }\n",
       "</style>\n",
       "<table border=\"1\" class=\"dataframe\">\n",
       "  <thead>\n",
       "    <tr style=\"text-align: right;\">\n",
       "      <th></th>\n",
       "      <th>Feature Importance</th>\n",
       "    </tr>\n",
       "  </thead>\n",
       "  <tbody>\n",
       "    <tr>\n",
       "      <th>Present_Price</th>\n",
       "      <td>0.828095</td>\n",
       "    </tr>\n",
       "    <tr>\n",
       "      <th>vehicle_age</th>\n",
       "      <td>0.171905</td>\n",
       "    </tr>\n",
       "    <tr>\n",
       "      <th>Fuel_Type</th>\n",
       "      <td>0.000000</td>\n",
       "    </tr>\n",
       "    <tr>\n",
       "      <th>Seller_Type</th>\n",
       "      <td>0.000000</td>\n",
       "    </tr>\n",
       "    <tr>\n",
       "      <th>Transmission</th>\n",
       "      <td>0.000000</td>\n",
       "    </tr>\n",
       "    <tr>\n",
       "      <th>Kms_Driven</th>\n",
       "      <td>0.000000</td>\n",
       "    </tr>\n",
       "    <tr>\n",
       "      <th>Owner</th>\n",
       "      <td>0.000000</td>\n",
       "    </tr>\n",
       "  </tbody>\n",
       "</table>\n",
       "</div>"
      ],
      "text/plain": [
       "               Feature Importance\n",
       "Present_Price            0.828095\n",
       "vehicle_age              0.171905\n",
       "Fuel_Type                0.000000\n",
       "Seller_Type              0.000000\n",
       "Transmission             0.000000\n",
       "Kms_Driven               0.000000\n",
       "Owner                    0.000000"
      ]
     },
     "execution_count": 63,
     "metadata": {},
     "output_type": "execute_result"
    }
   ],
   "source": [
    "df_f_i = pd.DataFrame(data = pipe_model[\"DT_model\"].feature_importances_, \n",
    "                      index=new_features, \n",
    "                      columns=[\"Feature Importance\"])\n",
    "\n",
    "df_f_i = df_f_i.sort_values(\"Feature Importance\", ascending=False)\n",
    "\n",
    "df_f_i\n",
    "\n",
    "# Gördüğünüz gibi DT 2 feature hariç diğer featurlardan bir insight çıkaramamış. Çünkü DT herzaman en iyi featurlara yoğunlaşır."
   ]
  },
  {
   "cell_type": "code",
   "execution_count": 64,
   "id": "fdcda244",
   "metadata": {
    "id": "fdcda244",
    "outputId": "e55b8349-214b-44b7-e552-3ea0e28d79bc"
   },
   "outputs": [
    {
     "data": {
      "image/png": "[encoded data removed]",
      "text/plain": [
       "<Figure size 576x396 with 1 Axes>"
      ]
     },
     "metadata": {},
     "output_type": "display_data"
    }
   ],
   "source": [
    "ax = sns.barplot(x = df_f_i.index, y = 'Feature Importance', data = df_f_i)\n",
    "ax.bar_label(ax.containers[0],fmt=\"%.3f\")\n",
    "plt.xticks(rotation = 90)\n",
    "plt.tight_layout()\n",
    "\n",
    "# feature importance değerlerimizi barplot ile görselleştiriyoruz."
   ]
  },
  {
   "cell_type": "markdown",
   "id": "2064343f",
   "metadata": {
    "id": "2064343f"
   },
   "source": [
    "## Compore real and predicted result"
   ]
  },
  {
   "cell_type": "code",
   "execution_count": 65,
   "id": "employed-world",
   "metadata": {
    "id": "employed-world"
   },
   "outputs": [],
   "source": [
    "y_pred = grid_model.predict(X_test)\n",
    "my_dict = { 'Actual': y_test, 'Pred': y_pred, 'Residual': y_test-y_pred }\n",
    "compare = pd.DataFrame(my_dict)\n",
    "\n",
    "# modelin tahminleri başarılı bir şekilde yapıp yapamadığı görmek için gerçek, tahmin edilen değerler ile residulları\n",
    "# karşılaştırıyoruz."
   ]
  },
  {
   "cell_type": "code",
   "execution_count": 66,
   "id": "innovative-separate",
   "metadata": {
    "id": "innovative-separate",
    "outputId": "c51d625e-15a8-4e71-d3cd-23e63be3fef3"
   },
   "outputs": [
    {
     "data": {
      "text/html": [
       "<div>\n",
       "<style scoped>\n",
       "    .dataframe tbody tr th:only-of-type {\n",
       "        vertical-align: middle;\n",
       "    }\n",
       "\n",
       "    .dataframe tbody tr th {\n",
       "        vertical-align: top;\n",
       "    }\n",
       "\n",
       "    .dataframe thead th {\n",
       "        text-align: right;\n",
       "    }\n",
       "</style>\n",
       "<table border=\"1\" class=\"dataframe\">\n",
       "  <thead>\n",
       "    <tr style=\"text-align: right;\">\n",
       "      <th></th>\n",
       "      <th>Actual</th>\n",
       "      <th>Pred</th>\n",
       "      <th>Residual</th>\n",
       "    </tr>\n",
       "  </thead>\n",
       "  <tbody>\n",
       "    <tr>\n",
       "      <th>213</th>\n",
       "      <td>2.90</td>\n",
       "      <td>2.95</td>\n",
       "      <td>-0.05</td>\n",
       "    </tr>\n",
       "    <tr>\n",
       "      <th>186</th>\n",
       "      <td>0.25</td>\n",
       "      <td>0.48</td>\n",
       "      <td>-0.23</td>\n",
       "    </tr>\n",
       "    <tr>\n",
       "      <th>193</th>\n",
       "      <td>0.20</td>\n",
       "      <td>0.48</td>\n",
       "      <td>-0.28</td>\n",
       "    </tr>\n",
       "    <tr>\n",
       "      <th>271</th>\n",
       "      <td>3.00</td>\n",
       "      <td>4.75</td>\n",
       "      <td>-1.75</td>\n",
       "    </tr>\n",
       "    <tr>\n",
       "      <th>6</th>\n",
       "      <td>6.75</td>\n",
       "      <td>7.50</td>\n",
       "      <td>-0.75</td>\n",
       "    </tr>\n",
       "    <tr>\n",
       "      <th>251</th>\n",
       "      <td>5.00</td>\n",
       "      <td>4.75</td>\n",
       "      <td>0.25</td>\n",
       "    </tr>\n",
       "    <tr>\n",
       "      <th>120</th>\n",
       "      <td>1.05</td>\n",
       "      <td>0.48</td>\n",
       "      <td>0.57</td>\n",
       "    </tr>\n",
       "    <tr>\n",
       "      <th>244</th>\n",
       "      <td>5.95</td>\n",
       "      <td>4.75</td>\n",
       "      <td>1.20</td>\n",
       "    </tr>\n",
       "    <tr>\n",
       "      <th>243</th>\n",
       "      <td>6.25</td>\n",
       "      <td>4.75</td>\n",
       "      <td>1.50</td>\n",
       "    </tr>\n",
       "    <tr>\n",
       "      <th>123</th>\n",
       "      <td>1.00</td>\n",
       "      <td>1.20</td>\n",
       "      <td>-0.20</td>\n",
       "    </tr>\n",
       "    <tr>\n",
       "      <th>266</th>\n",
       "      <td>3.65</td>\n",
       "      <td>4.75</td>\n",
       "      <td>-1.10</td>\n",
       "    </tr>\n",
       "    <tr>\n",
       "      <th>265</th>\n",
       "      <td>6.50</td>\n",
       "      <td>7.50</td>\n",
       "      <td>-1.00</td>\n",
       "    </tr>\n",
       "    <tr>\n",
       "      <th>197</th>\n",
       "      <td>0.16</td>\n",
       "      <td>0.48</td>\n",
       "      <td>-0.32</td>\n",
       "    </tr>\n",
       "    <tr>\n",
       "      <th>187</th>\n",
       "      <td>0.25</td>\n",
       "      <td>0.48</td>\n",
       "      <td>-0.23</td>\n",
       "    </tr>\n",
       "    <tr>\n",
       "      <th>142</th>\n",
       "      <td>0.60</td>\n",
       "      <td>0.48</td>\n",
       "      <td>0.12</td>\n",
       "    </tr>\n",
       "    <tr>\n",
       "      <th>172</th>\n",
       "      <td>0.40</td>\n",
       "      <td>0.48</td>\n",
       "      <td>-0.08</td>\n",
       "    </tr>\n",
       "    <tr>\n",
       "      <th>114</th>\n",
       "      <td>1.15</td>\n",
       "      <td>1.20</td>\n",
       "      <td>-0.05</td>\n",
       "    </tr>\n",
       "    <tr>\n",
       "      <th>76</th>\n",
       "      <td>5.50</td>\n",
       "      <td>4.75</td>\n",
       "      <td>0.75</td>\n",
       "    </tr>\n",
       "    <tr>\n",
       "      <th>221</th>\n",
       "      <td>4.50</td>\n",
       "      <td>2.95</td>\n",
       "      <td>1.55</td>\n",
       "    </tr>\n",
       "    <tr>\n",
       "      <th>173</th>\n",
       "      <td>0.40</td>\n",
       "      <td>0.48</td>\n",
       "      <td>-0.08</td>\n",
       "    </tr>\n",
       "  </tbody>\n",
       "</table>\n",
       "</div>"
      ],
      "text/plain": [
       "     Actual  Pred  Residual\n",
       "213    2.90  2.95     -0.05\n",
       "186    0.25  0.48     -0.23\n",
       "193    0.20  0.48     -0.28\n",
       "271    3.00  4.75     -1.75\n",
       "6      6.75  7.50     -0.75\n",
       "251    5.00  4.75      0.25\n",
       "120    1.05  0.48      0.57\n",
       "244    5.95  4.75      1.20\n",
       "243    6.25  4.75      1.50\n",
       "123    1.00  1.20     -0.20\n",
       "266    3.65  4.75     -1.10\n",
       "265    6.50  7.50     -1.00\n",
       "197    0.16  0.48     -0.32\n",
       "187    0.25  0.48     -0.23\n",
       "142    0.60  0.48      0.12\n",
       "172    0.40  0.48     -0.08\n",
       "114    1.15  1.20     -0.05\n",
       "76     5.50  4.75      0.75\n",
       "221    4.50  2.95      1.55\n",
       "173    0.40  0.48     -0.08"
      ]
     },
     "execution_count": 66,
     "metadata": {},
     "output_type": "execute_result"
    }
   ],
   "source": [
    "comp_sample = compare.sample(20)\n",
    "comp_sample"
   ]
  },
  {
   "cell_type": "code",
   "execution_count": 67,
   "id": "significant-frontier",
   "metadata": {
    "id": "significant-frontier",
    "outputId": "c421d510-7365-467f-e9e1-ac4c652f3da2",
    "scrolled": true
   },
   "outputs": [
    {
     "data": {
      "image/png": "[encoded data removed]",
      "text/plain": [
       "<Figure size 648x360 with 1 Axes>"
      ]
     },
     "metadata": {},
     "output_type": "display_data"
    }
   ],
   "source": [
    "comp_sample.plot(kind='bar',figsize=(9,5))\n",
    "plt.show()"
   ]
  },
  {
   "cell_type": "markdown",
   "id": "7d10ea85",
   "metadata": {
    "id": "7d10ea85"
   },
   "source": [
    "## Final Model"
   ]
  },
  {
   "cell_type": "code",
   "execution_count": 68,
   "id": "a797298e",
   "metadata": {
    "id": "a797298e"
   },
   "outputs": [],
   "source": [
    "X=df_new.drop(\"Selling_Price\", axis=1)\n",
    "y=df_new.Selling_Price"
   ]
  },
  {
   "cell_type": "code",
   "execution_count": 69,
   "id": "32c5d791",
   "metadata": {
    "id": "32c5d791",
    "outputId": "7f3a4215-54a7-4f72-f951-91bfee6f6f45"
   },
   "outputs": [
    {
     "data": {
      "text/html": [
       "<style>#sk-container-id-6 {color: black;background-color: white;}#sk-container-id-6 pre{padding: 0;}#sk-container-id-6 div.sk-toggleable {background-color: white;}#sk-container-id-6 label.sk-toggleable__label {cursor: pointer;display: block;width: 100%;margin-bottom: 0;padding: 0.3em;box-sizing: border-box;text-align: center;}#sk-container-id-6 label.sk-toggleable__label-arrow:before {content: \"▸\";float: left;margin-right: 0.25em;color: #696969;}#sk-container-id-6 label.sk-toggleable__label-arrow:hover:before {color: black;}#sk-container-id-6 div.sk-estimator:hover label.sk-toggleable__label-arrow:before {color: black;}#sk-container-id-6 div.sk-toggleable__content {max-height: 0;max-width: 0;overflow: hidden;text-align: left;background-color: #f0f8ff;}#sk-container-id-6 div.sk-toggleable__content pre {margin: 0.2em;color: black;border-radius: 0.25em;background-color: #f0f8ff;}#sk-container-id-6 input.sk-toggleable__control:checked~div.sk-toggleable__content {max-height: 200px;max-width: 100%;overflow: auto;}#sk-container-id-6 input.sk-toggleable__control:checked~label.sk-toggleable__label-arrow:before {content: \"▾\";}#sk-container-id-6 div.sk-estimator input.sk-toggleable__control:checked~label.sk-toggleable__label {background-color: #d4ebff;}#sk-container-id-6 div.sk-label input.sk-toggleable__control:checked~label.sk-toggleable__label {background-color: #d4ebff;}#sk-container-id-6 input.sk-hidden--visually {border: 0;clip: rect(1px 1px 1px 1px);clip: rect(1px, 1px, 1px, 1px);height: 1px;margin: -1px;overflow: hidden;padding: 0;position: absolute;width: 1px;}#sk-container-id-6 div.sk-estimator {font-family: monospace;background-color: #f0f8ff;border: 1px dotted black;border-radius: 0.25em;box-sizing: border-box;margin-bottom: 0.5em;}#sk-container-id-6 div.sk-estimator:hover {background-color: #d4ebff;}#sk-container-id-6 div.sk-parallel-item::after {content: \"\";width: 100%;border-bottom: 1px solid gray;flex-grow: 1;}#sk-container-id-6 div.sk-label:hover label.sk-toggleable__label {background-color: #d4ebff;}#sk-container-id-6 div.sk-serial::before {content: \"\";position: absolute;border-left: 1px solid gray;box-sizing: border-box;top: 0;bottom: 0;left: 50%;z-index: 0;}#sk-container-id-6 div.sk-serial {display: flex;flex-direction: column;align-items: center;background-color: white;padding-right: 0.2em;padding-left: 0.2em;position: relative;}#sk-container-id-6 div.sk-item {position: relative;z-index: 1;}#sk-container-id-6 div.sk-parallel {display: flex;align-items: stretch;justify-content: center;background-color: white;position: relative;}#sk-container-id-6 div.sk-item::before, #sk-container-id-6 div.sk-parallel-item::before {content: \"\";position: absolute;border-left: 1px solid gray;box-sizing: border-box;top: 0;bottom: 0;left: 50%;z-index: -1;}#sk-container-id-6 div.sk-parallel-item {display: flex;flex-direction: column;z-index: 1;position: relative;background-color: white;}#sk-container-id-6 div.sk-parallel-item:first-child::after {align-self: flex-end;width: 50%;}#sk-container-id-6 div.sk-parallel-item:last-child::after {align-self: flex-start;width: 50%;}#sk-container-id-6 div.sk-parallel-item:only-child::after {width: 0;}#sk-container-id-6 div.sk-dashed-wrapped {border: 1px dashed gray;margin: 0 0.4em 0.5em 0.4em;box-sizing: border-box;padding-bottom: 0.4em;background-color: white;}#sk-container-id-6 div.sk-label label {font-family: monospace;font-weight: bold;display: inline-block;line-height: 1.2em;}#sk-container-id-6 div.sk-label-container {text-align: center;}#sk-container-id-6 div.sk-container {/* jupyter's `normalize.less` sets `[hidden] { display: none; }` but bootstrap.min.css set `[hidden] { display: none !important; }` so we also need the `!important` here to be able to override the default hidden behavior on the sphinx rendered scikit-learn.org. See: https://github.com/scikit-learn/scikit-learn/issues/21755 */display: inline-block !important;position: relative;}#sk-container-id-6 div.sk-text-repr-fallback {display: none;}</style><div id=\"sk-container-id-6\" class=\"sk-top-container\"><div class=\"sk-text-repr-fallback\"><pre>Pipeline(steps=[(&#x27;Ordinalcoder&#x27;,\n",
       "                 ColumnTransformer(remainder=&#x27;passthrough&#x27;,\n",
       "                                   transformers=[(&#x27;ordinalencoder&#x27;,\n",
       "                                                  OrdinalEncoder(handle_unknown=&#x27;use_encoded_value&#x27;,\n",
       "                                                                 unknown_value=-1),\n",
       "                                                  Index([&#x27;Fuel_Type&#x27;, &#x27;Seller_Type&#x27;, &#x27;Transmission&#x27;], dtype=&#x27;object&#x27;))])),\n",
       "                (&#x27;DT_model&#x27;,\n",
       "                 DecisionTreeRegressor(criterion=&#x27;absolute_error&#x27;, max_depth=3,\n",
       "                                       random_state=101))])</pre><b>In a Jupyter environment, please rerun this cell to show the HTML representation or trust the notebook. <br />On GitHub, the HTML representation is unable to render, please try loading this page with nbviewer.org.</b></div><div class=\"sk-container\" hidden><div class=\"sk-item sk-dashed-wrapped\"><div class=\"sk-label-container\"><div class=\"sk-label sk-toggleable\"><input class=\"sk-toggleable__control sk-hidden--visually\" id=\"sk-estimator-id-37\" type=\"checkbox\" ><label for=\"sk-estimator-id-37\" class=\"sk-toggleable__label sk-toggleable__label-arrow\">Pipeline</label><div class=\"sk-toggleable__content\"><pre>Pipeline(steps=[(&#x27;Ordinalcoder&#x27;,\n",
       "                 ColumnTransformer(remainder=&#x27;passthrough&#x27;,\n",
       "                                   transformers=[(&#x27;ordinalencoder&#x27;,\n",
       "                                                  OrdinalEncoder(handle_unknown=&#x27;use_encoded_value&#x27;,\n",
       "                                                                 unknown_value=-1),\n",
       "                                                  Index([&#x27;Fuel_Type&#x27;, &#x27;Seller_Type&#x27;, &#x27;Transmission&#x27;], dtype=&#x27;object&#x27;))])),\n",
       "                (&#x27;DT_model&#x27;,\n",
       "                 DecisionTreeRegressor(criterion=&#x27;absolute_error&#x27;, max_depth=3,\n",
       "                                       random_state=101))])</pre></div></div></div><div class=\"sk-serial\"><div class=\"sk-item sk-dashed-wrapped\"><div class=\"sk-label-container\"><div class=\"sk-label sk-toggleable\"><input class=\"sk-toggleable__control sk-hidden--visually\" id=\"sk-estimator-id-38\" type=\"checkbox\" ><label for=\"sk-estimator-id-38\" class=\"sk-toggleable__label sk-toggleable__label-arrow\">Ordinalcoder: ColumnTransformer</label><div class=\"sk-toggleable__content\"><pre>ColumnTransformer(remainder=&#x27;passthrough&#x27;,\n",
       "                  transformers=[(&#x27;ordinalencoder&#x27;,\n",
       "                                 OrdinalEncoder(handle_unknown=&#x27;use_encoded_value&#x27;,\n",
       "                                                unknown_value=-1),\n",
       "                                 Index([&#x27;Fuel_Type&#x27;, &#x27;Seller_Type&#x27;, &#x27;Transmission&#x27;], dtype=&#x27;object&#x27;))])</pre></div></div></div><div class=\"sk-parallel\"><div class=\"sk-parallel-item\"><div class=\"sk-item\"><div class=\"sk-label-container\"><div class=\"sk-label sk-toggleable\"><input class=\"sk-toggleable__control sk-hidden--visually\" id=\"sk-estimator-id-39\" type=\"checkbox\" ><label for=\"sk-estimator-id-39\" class=\"sk-toggleable__label sk-toggleable__label-arrow\">ordinalencoder</label><div class=\"sk-toggleable__content\"><pre>Index([&#x27;Fuel_Type&#x27;, &#x27;Seller_Type&#x27;, &#x27;Transmission&#x27;], dtype=&#x27;object&#x27;)</pre></div></div></div><div class=\"sk-serial\"><div class=\"sk-item\"><div class=\"sk-estimator sk-toggleable\"><input class=\"sk-toggleable__control sk-hidden--visually\" id=\"sk-estimator-id-40\" type=\"checkbox\" ><label for=\"sk-estimator-id-40\" class=\"sk-toggleable__label sk-toggleable__label-arrow\">OrdinalEncoder</label><div class=\"sk-toggleable__content\"><pre>OrdinalEncoder(handle_unknown=&#x27;use_encoded_value&#x27;, unknown_value=-1)</pre></div></div></div></div></div></div><div class=\"sk-parallel-item\"><div class=\"sk-item\"><div class=\"sk-label-container\"><div class=\"sk-label sk-toggleable\"><input class=\"sk-toggleable__control sk-hidden--visually\" id=\"sk-estimator-id-41\" type=\"checkbox\" ><label for=\"sk-estimator-id-41\" class=\"sk-toggleable__label sk-toggleable__label-arrow\">remainder</label><div class=\"sk-toggleable__content\"><pre>[&#x27;Present_Price&#x27;, &#x27;Kms_Driven&#x27;, &#x27;Owner&#x27;, &#x27;vehicle_age&#x27;]</pre></div></div></div><div class=\"sk-serial\"><div class=\"sk-item\"><div class=\"sk-estimator sk-toggleable\"><input class=\"sk-toggleable__control sk-hidden--visually\" id=\"sk-estimator-id-42\" type=\"checkbox\" ><label for=\"sk-estimator-id-42\" class=\"sk-toggleable__label sk-toggleable__label-arrow\">passthrough</label><div class=\"sk-toggleable__content\"><pre>passthrough</pre></div></div></div></div></div></div></div></div><div class=\"sk-item\"><div class=\"sk-estimator sk-toggleable\"><input class=\"sk-toggleable__control sk-hidden--visually\" id=\"sk-estimator-id-43\" type=\"checkbox\" ><label for=\"sk-estimator-id-43\" class=\"sk-toggleable__label sk-toggleable__label-arrow\">DecisionTreeRegressor</label><div class=\"sk-toggleable__content\"><pre>DecisionTreeRegressor(criterion=&#x27;absolute_error&#x27;, max_depth=3, random_state=101)</pre></div></div></div></div></div></div></div>"
      ],
      "text/plain": [
       "Pipeline(steps=[('Ordinalcoder',\n",
       "                 ColumnTransformer(remainder='passthrough',\n",
       "                                   transformers=[('ordinalencoder',\n",
       "                                                  OrdinalEncoder(handle_unknown='use_encoded_value',\n",
       "                                                                 unknown_value=-1),\n",
       "                                                  Index(['Fuel_Type', 'Seller_Type', 'Transmission'], dtype='object'))])),\n",
       "                ('DT_model',\n",
       "                 DecisionTreeRegressor(criterion='absolute_error', max_depth=3,\n",
       "                                       random_state=101))])"
      ]
     },
     "execution_count": 69,
     "metadata": {},
     "output_type": "execute_result"
    }
   ],
   "source": [
    "from sklearn.pipeline import Pipeline\n",
    "\n",
    "operations = [(\"Ordinalcoder\", column_trans), \n",
    "              (\"DT_model\", DecisionTreeRegressor(max_depth=3, \n",
    "                                                 criterion='absolute_error', \n",
    "                                                 random_state=101))]\n",
    "\n",
    "pipe_model = Pipeline(steps=operations)\n",
    "\n",
    "pipe_model.fit(X, y)\n",
    "\n",
    "# final modelimizi en iyi hyper parametrelerle tüm data için yenden kuruyoruz."
   ]
  },
  {
   "cell_type": "markdown",
   "id": "811880a5",
   "metadata": {
    "id": "811880a5"
   },
   "source": [
    "## Prediction"
   ]
  },
  {
   "cell_type": "code",
   "execution_count": 70,
   "id": "59798fde",
   "metadata": {
    "id": "59798fde",
    "outputId": "6931e78a-8d6b-4bba-92ba-be9f5285b40a"
   },
   "outputs": [
    {
     "data": {
      "text/html": [
       "<div>\n",
       "<style scoped>\n",
       "    .dataframe tbody tr th:only-of-type {\n",
       "        vertical-align: middle;\n",
       "    }\n",
       "\n",
       "    .dataframe tbody tr th {\n",
       "        vertical-align: top;\n",
       "    }\n",
       "\n",
       "    .dataframe thead th {\n",
       "        text-align: right;\n",
       "    }\n",
       "</style>\n",
       "<table border=\"1\" class=\"dataframe\">\n",
       "  <thead>\n",
       "    <tr style=\"text-align: right;\">\n",
       "      <th></th>\n",
       "      <th>Present_Price</th>\n",
       "      <th>Kms_Driven</th>\n",
       "      <th>Owner</th>\n",
       "      <th>vehicle_age</th>\n",
       "    </tr>\n",
       "  </thead>\n",
       "  <tbody>\n",
       "    <tr>\n",
       "      <th>count</th>\n",
       "      <td>273.000000</td>\n",
       "      <td>273.000000</td>\n",
       "      <td>273.000000</td>\n",
       "      <td>273.000000</td>\n",
       "    </tr>\n",
       "    <tr>\n",
       "      <th>mean</th>\n",
       "      <td>5.879267</td>\n",
       "      <td>36516.941392</td>\n",
       "      <td>0.047619</td>\n",
       "      <td>8.527473</td>\n",
       "    </tr>\n",
       "    <tr>\n",
       "      <th>std</th>\n",
       "      <td>4.955093</td>\n",
       "      <td>39529.115504</td>\n",
       "      <td>0.259956</td>\n",
       "      <td>2.943115</td>\n",
       "    </tr>\n",
       "    <tr>\n",
       "      <th>min</th>\n",
       "      <td>0.320000</td>\n",
       "      <td>500.000000</td>\n",
       "      <td>0.000000</td>\n",
       "      <td>4.000000</td>\n",
       "    </tr>\n",
       "    <tr>\n",
       "      <th>25%</th>\n",
       "      <td>0.990000</td>\n",
       "      <td>15001.000000</td>\n",
       "      <td>0.000000</td>\n",
       "      <td>6.000000</td>\n",
       "    </tr>\n",
       "    <tr>\n",
       "      <th>50%</th>\n",
       "      <td>5.700000</td>\n",
       "      <td>32000.000000</td>\n",
       "      <td>0.000000</td>\n",
       "      <td>8.000000</td>\n",
       "    </tr>\n",
       "    <tr>\n",
       "      <th>75%</th>\n",
       "      <td>8.920000</td>\n",
       "      <td>48000.000000</td>\n",
       "      <td>0.000000</td>\n",
       "      <td>10.000000</td>\n",
       "    </tr>\n",
       "    <tr>\n",
       "      <th>max</th>\n",
       "      <td>23.730000</td>\n",
       "      <td>500000.000000</td>\n",
       "      <td>3.000000</td>\n",
       "      <td>19.000000</td>\n",
       "    </tr>\n",
       "  </tbody>\n",
       "</table>\n",
       "</div>"
      ],
      "text/plain": [
       "       Present_Price     Kms_Driven       Owner  vehicle_age\n",
       "count     273.000000     273.000000  273.000000   273.000000\n",
       "mean        5.879267   36516.941392    0.047619     8.527473\n",
       "std         4.955093   39529.115504    0.259956     2.943115\n",
       "min         0.320000     500.000000    0.000000     4.000000\n",
       "25%         0.990000   15001.000000    0.000000     6.000000\n",
       "50%         5.700000   32000.000000    0.000000     8.000000\n",
       "75%         8.920000   48000.000000    0.000000    10.000000\n",
       "max        23.730000  500000.000000    3.000000    19.000000"
      ]
     },
     "execution_count": 70,
     "metadata": {},
     "output_type": "execute_result"
    }
   ],
   "source": [
    "X.describe()"
   ]
  },
  {
   "cell_type": "code",
   "execution_count": 71,
   "id": "e44a32f1",
   "metadata": {
    "id": "e44a32f1"
   },
   "outputs": [],
   "source": [
    "samples = {\"Present_Price\": [7, 9.5],\n",
    "           \"Kms_Driven\": [25000, 44000],\n",
    "           \"Fuel_Type\":[\"Petrol\", \"Diesel\"],\n",
    "           'Seller_Type':['Dealer', 'Individual'],\n",
    "           'Transmission': ['Manual', 'Automatic'],\n",
    "           \"Owner\":[0,1],\n",
    "           \"vehicle_age\":[1, 9]}"
   ]
  },
  {
   "cell_type": "code",
   "execution_count": 72,
   "id": "b2cf9057",
   "metadata": {
    "id": "b2cf9057",
    "outputId": "5ccefab0-e1c5-469b-f469-1c3611f13432"
   },
   "outputs": [
    {
     "data": {
      "text/html": [
       "<div>\n",
       "<style scoped>\n",
       "    .dataframe tbody tr th:only-of-type {\n",
       "        vertical-align: middle;\n",
       "    }\n",
       "\n",
       "    .dataframe tbody tr th {\n",
       "        vertical-align: top;\n",
       "    }\n",
       "\n",
       "    .dataframe thead th {\n",
       "        text-align: right;\n",
       "    }\n",
       "</style>\n",
       "<table border=\"1\" class=\"dataframe\">\n",
       "  <thead>\n",
       "    <tr style=\"text-align: right;\">\n",
       "      <th></th>\n",
       "      <th>Present_Price</th>\n",
       "      <th>Kms_Driven</th>\n",
       "      <th>Fuel_Type</th>\n",
       "      <th>Seller_Type</th>\n",
       "      <th>Transmission</th>\n",
       "      <th>Owner</th>\n",
       "      <th>vehicle_age</th>\n",
       "    </tr>\n",
       "  </thead>\n",
       "  <tbody>\n",
       "    <tr>\n",
       "      <th>0</th>\n",
       "      <td>7.0</td>\n",
       "      <td>25000</td>\n",
       "      <td>Petrol</td>\n",
       "      <td>Dealer</td>\n",
       "      <td>Manual</td>\n",
       "      <td>0</td>\n",
       "      <td>1</td>\n",
       "    </tr>\n",
       "    <tr>\n",
       "      <th>1</th>\n",
       "      <td>9.5</td>\n",
       "      <td>44000</td>\n",
       "      <td>Diesel</td>\n",
       "      <td>Individual</td>\n",
       "      <td>Automatic</td>\n",
       "      <td>1</td>\n",
       "      <td>9</td>\n",
       "    </tr>\n",
       "  </tbody>\n",
       "</table>\n",
       "</div>"
      ],
      "text/plain": [
       "   Present_Price  Kms_Driven Fuel_Type Seller_Type Transmission  Owner  \\\n",
       "0            7.0       25000    Petrol      Dealer       Manual      0   \n",
       "1            9.5       44000    Diesel  Individual    Automatic      1   \n",
       "\n",
       "   vehicle_age  \n",
       "0            1  \n",
       "1            9  "
      ]
     },
     "execution_count": 72,
     "metadata": {},
     "output_type": "execute_result"
    }
   ],
   "source": [
    "df_samples = pd.DataFrame(samples)\n",
    "df_samples"
   ]
  },
  {
   "cell_type": "code",
   "execution_count": 73,
   "id": "6a7cd30d",
   "metadata": {
    "id": "6a7cd30d",
    "outputId": "f02e83ee-7312-4428-a2d3-0130cad7f800"
   },
   "outputs": [
    {
     "data": {
      "text/plain": [
       "array([4.65, 6.9 ])"
      ]
     },
     "execution_count": 73,
     "metadata": {},
     "output_type": "execute_result"
    }
   ],
   "source": [
    "pipe_model.predict(df_samples)"
   ]
  },
  {
   "cell_type": "code",
   "execution_count": null,
   "id": "5c1cf684",
   "metadata": {
    "id": "5c1cf684"
   },
   "outputs": [],
   "source": []
  }
 ],
 "metadata": {
  "colab": {
   "provenance": []
  },
  "kernelspec": {
   "display_name": "Python 3 (ipykernel)",
   "language": "python",
   "name": "python3"
  },
  "language_info": {
   "codemirror_mode": {
    "name": "ipython",
    "version": 3
   },
   "file_extension": ".py",
   "mimetype": "text/x-python",
   "name": "python",
   "nbconvert_exporter": "python",
   "pygments_lexer": "ipython3",
   "version": "3.9.12"
  },
  "varInspector": {
   "cols": {
    "lenName": 16,
    "lenType": 16,
    "lenVar": 40
   },
   "kernels_config": {
    "python": {
     "delete_cmd_postfix": "",
     "delete_cmd_prefix": "del ",
     "library": "var_list.py",
     "varRefreshCmd": "print(var_dic_list())"
    },
    "r": {
     "delete_cmd_postfix": ") ",
     "delete_cmd_prefix": "rm(",
     "library": "var_list.r",
     "varRefreshCmd": "cat(var_dic_list()) "
    }
   },
   "types_to_exclude": [
    "module",
    "function",
    "builtin_function_or_method",
    "instance",
    "_Feature"
   ],
   "window_display": false
  }
 },
 "nbformat": 4,
 "nbformat_minor": 5
}
